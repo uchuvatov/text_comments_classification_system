{
 "cells": [
  {
   "cell_type": "markdown",
   "metadata": {
    "toc": true
   },
   "source": [
    "<h1>Содержание<span class=\"tocSkip\"></span></h1>\n",
    "<div class=\"toc\"><ul class=\"toc-item\"><li><span><a href=\"#Подготовка-данных\" data-toc-modified-id=\"Подготовка-данных-1\"><span class=\"toc-item-num\">1&nbsp;&nbsp;</span>Подготовка данных</a></span><ul class=\"toc-item\"><li><span><a href=\"#Загрузка-и-предварительный-анализ-данных\" data-toc-modified-id=\"Загрузка-и-предварительный-анализ-данных-1.1\"><span class=\"toc-item-num\">1.1&nbsp;&nbsp;</span>Загрузка и предварительный анализ данных</a></span></li><li><span><a href=\"#Токенизация-и-лемматизация-комментариев\" data-toc-modified-id=\"Токенизация-и-лемматизация-комментариев-1.2\"><span class=\"toc-item-num\">1.2&nbsp;&nbsp;</span>Токенизация и лемматизация комментариев</a></span></li><li><span><a href=\"#Разделение-исходных-данных-на-обучающую-и-тестовую-выборки\" data-toc-modified-id=\"Разделение-исходных-данных-на-обучающую-и-тестовую-выборки-1.3\"><span class=\"toc-item-num\">1.3&nbsp;&nbsp;</span>Разделение исходных данных на обучающую и тестовую выборки</a></span></li><li><span><a href=\"#Векторизация-текстовых-признаков\" data-toc-modified-id=\"Векторизация-текстовых-признаков-1.4\"><span class=\"toc-item-num\">1.4&nbsp;&nbsp;</span>Векторизация текстовых признаков</a></span></li><li><span><a href=\"#Вывод\" data-toc-modified-id=\"Вывод-1.5\"><span class=\"toc-item-num\">1.5&nbsp;&nbsp;</span>Вывод</a></span></li></ul></li><li><span><a href=\"#Обучение-и-выбор-наилучшей-модели\" data-toc-modified-id=\"Обучение-и-выбор-наилучшей-модели-2\"><span class=\"toc-item-num\">2&nbsp;&nbsp;</span>Обучение и выбор наилучшей модели</a></span><ul class=\"toc-item\"><li><span><a href=\"#Модель-логистической-регресии\" data-toc-modified-id=\"Модель-логистической-регресии-2.1\"><span class=\"toc-item-num\">2.1&nbsp;&nbsp;</span>Модель логистической регресии</a></span></li><li><span><a href=\"#Модель-линейной-классификации-методом-опорных-векторов\" data-toc-modified-id=\"Модель-линейной-классификации-методом-опорных-векторов-2.2\"><span class=\"toc-item-num\">2.2&nbsp;&nbsp;</span>Модель линейной классификации методом опорных векторов</a></span></li><li><span><a href=\"#Модель-решающего-дерева\" data-toc-modified-id=\"Модель-решающего-дерева-2.3\"><span class=\"toc-item-num\">2.3&nbsp;&nbsp;</span>Модель решающего дерева</a></span></li><li><span><a href=\"#Модель-случайного-леса\" data-toc-modified-id=\"Модель-случайного-леса-2.4\"><span class=\"toc-item-num\">2.4&nbsp;&nbsp;</span>Модель случайного леса</a></span></li><li><span><a href=\"#Модель-градиентного-бустинга-на-базе-LightGBM\" data-toc-modified-id=\"Модель-градиентного-бустинга-на-базе-LightGBM-2.5\"><span class=\"toc-item-num\">2.5&nbsp;&nbsp;</span>Модель градиентного бустинга на базе LightGBM</a></span></li><li><span><a href=\"#Вывод\" data-toc-modified-id=\"Вывод-2.6\"><span class=\"toc-item-num\">2.6&nbsp;&nbsp;</span>Вывод</a></span></li></ul></li><li><span><a href=\"#Тестирование-наилучшей-модели\" data-toc-modified-id=\"Тестирование-наилучшей-модели-3\"><span class=\"toc-item-num\">3&nbsp;&nbsp;</span>Тестирование наилучшей модели</a></span><ul class=\"toc-item\"><li><span><a href=\"#Тестирование-модели\" data-toc-modified-id=\"Тестирование-модели-3.1\"><span class=\"toc-item-num\">3.1&nbsp;&nbsp;</span>Тестирование модели</a></span></li><li><span><a href=\"#Вывод\" data-toc-modified-id=\"Вывод-3.2\"><span class=\"toc-item-num\">3.2&nbsp;&nbsp;</span>Вывод</a></span></li></ul></li><li><span><a href=\"#Выводы\" data-toc-modified-id=\"Выводы-4\"><span class=\"toc-item-num\">4&nbsp;&nbsp;</span>Выводы</a></span></li></ul></div>"
   ]
  },
  {
   "cell_type": "markdown",
   "metadata": {},
   "source": [
    "# Система классификации текстовых комментариев для интерент-магазина"
   ]
  },
  {
   "cell_type": "markdown",
   "metadata": {},
   "source": [
    "Интернет-магазин запускает новый сервис, c помощью которого пользователи могут редактировать и дополнять описания товаров, как в вики-сообществах, то есть могут предлагать свои правки и комментировать изменения других. Магазину нужен инструмент, который будет искать токсичные комментарии и отправлять их на модерацию. \n",
    "\n",
    "Необходимо создать систему для классифицировать комментариев на позитивные и негативные. В распоряжении имеется набор данных с разметкой о токсичности правок.\n",
    "\n",
    "Необходимая метрика качества модели: *F1* - не меньше 0.75. \n",
    "\n",
    "Данные находятся в файле `toxic_comments.csv`. Столбец *text* в нём содержит текст комментария, а *toxic* — целевой признак."
   ]
  },
  {
   "cell_type": "markdown",
   "metadata": {},
   "source": [
    "## Подготовка данных"
   ]
  },
  {
   "cell_type": "code",
   "execution_count": 1,
   "metadata": {},
   "outputs": [
    {
     "name": "stderr",
     "output_type": "stream",
     "text": [
      "[nltk_data] Error loading averaged_perceptron_tagger: <urlopen error\n",
      "[nltk_data]     [Errno 11001] getaddrinfo failed>\n",
      "[nltk_data] Error loading omw-1.4: <urlopen error [Errno 11001]\n",
      "[nltk_data]     getaddrinfo failed>\n",
      "[nltk_data] Error loading punkt: <urlopen error [Errno 11001]\n",
      "[nltk_data]     getaddrinfo failed>\n",
      "[nltk_data] Error loading stopwords: <urlopen error [Errno 11001]\n",
      "[nltk_data]     getaddrinfo failed>\n",
      "[nltk_data] Error loading wordnet: <urlopen error [Errno 11001]\n",
      "[nltk_data]     getaddrinfo failed>\n"
     ]
    }
   ],
   "source": [
    "import nltk\n",
    "import numpy as np\n",
    "import pandas as pd\n",
    "import re\n",
    "import warnings\n",
    "\n",
    "from lightgbm import LGBMClassifier\n",
    "from nltk.corpus import wordnet\n",
    "from nltk.corpus import stopwords\n",
    "from nltk.stem import WordNetLemmatizer\n",
    "from nltk.tokenize import WhitespaceTokenizer\n",
    "from nltk.tokenize import word_tokenize\n",
    "\n",
    "nltk.download('averaged_perceptron_tagger')\n",
    "nltk.download('omw-1.4')\n",
    "nltk.download('punkt')\n",
    "nltk.download('stopwords')\n",
    "nltk.download('wordnet')\n",
    "stop_words = set(stopwords.words('english'))\n",
    "\n",
    "\n",
    "from sklearn.ensemble import RandomForestClassifier\n",
    "from sklearn.feature_extraction.text import TfidfVectorizer\n",
    "from sklearn.linear_model import LogisticRegression\n",
    "from sklearn.metrics import accuracy_score\n",
    "from sklearn.metrics import f1_score\n",
    "from sklearn.model_selection import cross_val_score\n",
    "from sklearn.model_selection import GridSearchCV\n",
    "from sklearn.model_selection import train_test_split\n",
    "from sklearn.pipeline import Pipeline\n",
    "from sklearn.svm import LinearSVC\n",
    "from sklearn.tree import DecisionTreeClassifier\n",
    "\n",
    "from tqdm import tqdm"
   ]
  },
  {
   "cell_type": "code",
   "execution_count": 2,
   "metadata": {},
   "outputs": [],
   "source": [
    "warnings.filterwarnings(\"ignore\")"
   ]
  },
  {
   "cell_type": "markdown",
   "metadata": {},
   "source": [
    "### Загрузка и предварительный анализ данных"
   ]
  },
  {
   "cell_type": "markdown",
   "metadata": {},
   "source": [
    "Произведем загрузку данных."
   ]
  },
  {
   "cell_type": "code",
   "execution_count": 3,
   "metadata": {},
   "outputs": [],
   "source": [
    "df = pd.read_csv(r'C:\\Users\\lebeda\\Yandex_Practicum\\Yandex_projects\\data_sets\\prjkt_13(sp16)\\toxic_comments.csv') "
   ]
  },
  {
   "cell_type": "markdown",
   "metadata": {},
   "source": [
    "Проведем предварительный осмотр данных на предмет наличия артефактов и аномалий."
   ]
  },
  {
   "cell_type": "code",
   "execution_count": 4,
   "metadata": {},
   "outputs": [
    {
     "data": {
      "text/plain": [
       "(159571, 2)"
      ]
     },
     "execution_count": 4,
     "metadata": {},
     "output_type": "execute_result"
    }
   ],
   "source": [
    "df.shape #размерность"
   ]
  },
  {
   "cell_type": "code",
   "execution_count": 5,
   "metadata": {},
   "outputs": [
    {
     "name": "stdout",
     "output_type": "stream",
     "text": [
      "<class 'pandas.core.frame.DataFrame'>\n",
      "RangeIndex: 159571 entries, 0 to 159570\n",
      "Data columns (total 2 columns):\n",
      " #   Column  Non-Null Count   Dtype \n",
      "---  ------  --------------   ----- \n",
      " 0   text    159571 non-null  object\n",
      " 1   toxic   159571 non-null  int64 \n",
      "dtypes: int64(1), object(1)\n",
      "memory usage: 2.4+ MB\n"
     ]
    }
   ],
   "source": [
    "df.info() #вывод сводной информации о таблице"
   ]
  },
  {
   "cell_type": "code",
   "execution_count": 6,
   "metadata": {},
   "outputs": [
    {
     "data": {
      "text/html": [
       "<div>\n",
       "<style scoped>\n",
       "    .dataframe tbody tr th:only-of-type {\n",
       "        vertical-align: middle;\n",
       "    }\n",
       "\n",
       "    .dataframe tbody tr th {\n",
       "        vertical-align: top;\n",
       "    }\n",
       "\n",
       "    .dataframe thead th {\n",
       "        text-align: right;\n",
       "    }\n",
       "</style>\n",
       "<table border=\"1\" class=\"dataframe\">\n",
       "  <thead>\n",
       "    <tr style=\"text-align: right;\">\n",
       "      <th></th>\n",
       "      <th>text</th>\n",
       "      <th>toxic</th>\n",
       "    </tr>\n",
       "  </thead>\n",
       "  <tbody>\n",
       "    <tr>\n",
       "      <th>0</th>\n",
       "      <td>Explanation\\nWhy the edits made under my usern...</td>\n",
       "      <td>0</td>\n",
       "    </tr>\n",
       "    <tr>\n",
       "      <th>1</th>\n",
       "      <td>D'aww! He matches this background colour I'm s...</td>\n",
       "      <td>0</td>\n",
       "    </tr>\n",
       "    <tr>\n",
       "      <th>2</th>\n",
       "      <td>Hey man, I'm really not trying to edit war. It...</td>\n",
       "      <td>0</td>\n",
       "    </tr>\n",
       "    <tr>\n",
       "      <th>3</th>\n",
       "      <td>\"\\nMore\\nI can't make any real suggestions on ...</td>\n",
       "      <td>0</td>\n",
       "    </tr>\n",
       "    <tr>\n",
       "      <th>4</th>\n",
       "      <td>You, sir, are my hero. Any chance you remember...</td>\n",
       "      <td>0</td>\n",
       "    </tr>\n",
       "  </tbody>\n",
       "</table>\n",
       "</div>"
      ],
      "text/plain": [
       "                                                text  toxic\n",
       "0  Explanation\\nWhy the edits made under my usern...      0\n",
       "1  D'aww! He matches this background colour I'm s...      0\n",
       "2  Hey man, I'm really not trying to edit war. It...      0\n",
       "3  \"\\nMore\\nI can't make any real suggestions on ...      0\n",
       "4  You, sir, are my hero. Any chance you remember...      0"
      ]
     },
     "execution_count": 6,
     "metadata": {},
     "output_type": "execute_result"
    }
   ],
   "source": [
    "df.head() "
   ]
  },
  {
   "cell_type": "code",
   "execution_count": 7,
   "metadata": {},
   "outputs": [
    {
     "data": {
      "text/plain": [
       "text     0\n",
       "toxic    0\n",
       "dtype: int64"
      ]
     },
     "execution_count": 7,
     "metadata": {},
     "output_type": "execute_result"
    }
   ],
   "source": [
    "df.isna().sum() #проверка на наличие пропусков"
   ]
  },
  {
   "cell_type": "code",
   "execution_count": 8,
   "metadata": {},
   "outputs": [
    {
     "data": {
      "text/plain": [
       "0"
      ]
     },
     "execution_count": 8,
     "metadata": {},
     "output_type": "execute_result"
    }
   ],
   "source": [
    "df.duplicated().sum() #проверка на наличие полных дубликатов строк"
   ]
  },
  {
   "cell_type": "code",
   "execution_count": 9,
   "metadata": {},
   "outputs": [
    {
     "data": {
      "text/html": [
       "<div>\n",
       "<style scoped>\n",
       "    .dataframe tbody tr th:only-of-type {\n",
       "        vertical-align: middle;\n",
       "    }\n",
       "\n",
       "    .dataframe tbody tr th {\n",
       "        vertical-align: top;\n",
       "    }\n",
       "\n",
       "    .dataframe thead th {\n",
       "        text-align: right;\n",
       "    }\n",
       "</style>\n",
       "<table border=\"1\" class=\"dataframe\">\n",
       "  <thead>\n",
       "    <tr style=\"text-align: right;\">\n",
       "      <th></th>\n",
       "      <th>toxic</th>\n",
       "    </tr>\n",
       "  </thead>\n",
       "  <tbody>\n",
       "    <tr>\n",
       "      <th>count</th>\n",
       "      <td>159571.000000</td>\n",
       "    </tr>\n",
       "    <tr>\n",
       "      <th>mean</th>\n",
       "      <td>0.101679</td>\n",
       "    </tr>\n",
       "    <tr>\n",
       "      <th>std</th>\n",
       "      <td>0.302226</td>\n",
       "    </tr>\n",
       "    <tr>\n",
       "      <th>min</th>\n",
       "      <td>0.000000</td>\n",
       "    </tr>\n",
       "    <tr>\n",
       "      <th>25%</th>\n",
       "      <td>0.000000</td>\n",
       "    </tr>\n",
       "    <tr>\n",
       "      <th>50%</th>\n",
       "      <td>0.000000</td>\n",
       "    </tr>\n",
       "    <tr>\n",
       "      <th>75%</th>\n",
       "      <td>0.000000</td>\n",
       "    </tr>\n",
       "    <tr>\n",
       "      <th>max</th>\n",
       "      <td>1.000000</td>\n",
       "    </tr>\n",
       "  </tbody>\n",
       "</table>\n",
       "</div>"
      ],
      "text/plain": [
       "               toxic\n",
       "count  159571.000000\n",
       "mean        0.101679\n",
       "std         0.302226\n",
       "min         0.000000\n",
       "25%         0.000000\n",
       "50%         0.000000\n",
       "75%         0.000000\n",
       "max         1.000000"
      ]
     },
     "execution_count": 9,
     "metadata": {},
     "output_type": "execute_result"
    }
   ],
   "source": [
    "df.describe() #получение описательных характеристик"
   ]
  },
  {
   "cell_type": "code",
   "execution_count": 10,
   "metadata": {},
   "outputs": [
    {
     "data": {
      "text/plain": [
       "16225"
      ]
     },
     "execution_count": 10,
     "metadata": {},
     "output_type": "execute_result"
    }
   ],
   "source": [
    "df.query('toxic == 1')['toxic'].count() #колличество комметариев с указанным признаком \"токсичности\""
   ]
  },
  {
   "cell_type": "code",
   "execution_count": 11,
   "metadata": {},
   "outputs": [
    {
     "data": {
      "text/plain": [
       "143346"
      ]
     },
     "execution_count": 11,
     "metadata": {},
     "output_type": "execute_result"
    }
   ],
   "source": [
    "df.query('toxic == 0')['toxic'].count() #колличество комметариев, в которых признак \"токсичности\" не указан"
   ]
  },
  {
   "cell_type": "markdown",
   "metadata": {},
   "source": [
    "**Вывод:** Предоставленный датасет - таблица из 159570 строк и двух столбцов, содержащая тексты комметариев на английском языке в одном столбце (\"text\") и размеченное (заранее определенное) значение признака \"токсичности\" в другом столбце (\"toxic\"). Пропуски и полные дубликаты отсутсвуют. Доля \"токсичных\" комментариев от общего числа сотавляет около 11%, что необходимо принять во внимание для разделение исходных данных на выборки для последующего построения моделей обучения."
   ]
  },
  {
   "cell_type": "markdown",
   "metadata": {},
   "source": [
    "### Токенизация и лемматизация комментариев"
   ]
  },
  {
   "cell_type": "markdown",
   "metadata": {},
   "source": [
    "Для получения вектора признаков на основе весов важности слов проведем предообработку текста, разделив его на токены в виде слов и найдя их леммы."
   ]
  },
  {
   "cell_type": "markdown",
   "metadata": {},
   "source": [
    "Для работы над таблицей будем использовать копию экземпляра исходных данных."
   ]
  },
  {
   "cell_type": "code",
   "execution_count": 12,
   "metadata": {},
   "outputs": [],
   "source": [
    "df_work = df.copy()"
   ]
  },
  {
   "cell_type": "markdown",
   "metadata": {},
   "source": [
    "Для предобработки текста создадим ряд функций, позволяющих модифицировать исходный массив."
   ]
  },
  {
   "cell_type": "code",
   "execution_count": 13,
   "metadata": {},
   "outputs": [],
   "source": [
    "def re_out(text): #функция выделения из текста регулярных выражений (только латиница в верхнем и нижнем регистрах)\n",
    "    return \" \".join((re.sub(r'[^a-zA-z]', ' ', text)).split())"
   ]
  },
  {
   "cell_type": "code",
   "execution_count": 14,
   "metadata": {},
   "outputs": [],
   "source": [
    "def tokinizer(text): #функция токенизации текста (токенизация по словам)\n",
    "    return word_tokenize(text)"
   ]
  },
  {
   "cell_type": "code",
   "execution_count": 15,
   "metadata": {},
   "outputs": [],
   "source": [
    "def get_wordnet_pos(word): #функция опредления POS-тега лемматизатора для более точной лемматзации\n",
    "    tag = nltk.pos_tag([word])[0][1][0].upper()\n",
    "    tag_dict = {\"J\": wordnet.ADJ,\n",
    "                \"N\": wordnet.NOUN,\n",
    "                \"V\": wordnet.VERB,\n",
    "                \"R\": wordnet.ADV}\n",
    "    return tag_dict.get(tag, wordnet.NOUN)"
   ]
  },
  {
   "cell_type": "code",
   "execution_count": 16,
   "metadata": {},
   "outputs": [],
   "source": [
    "lemmatizer = WordNetLemmatizer() #создание класса лемматизации \n",
    "\n",
    "def lemmatization(text): #функция лематизации с учетом опеделенного POS-тега\n",
    "    return ' '.join([lemmatizer.lemmatize(w, get_wordnet_pos(w)) for w in text])"
   ]
  },
  {
   "cell_type": "markdown",
   "metadata": {},
   "source": [
    "Выделим из комметариев регулярные выражения."
   ]
  },
  {
   "cell_type": "code",
   "execution_count": 17,
   "metadata": {},
   "outputs": [],
   "source": [
    "df_work['lemmas'] = df_work['text'].apply(re_out)"
   ]
  },
  {
   "cell_type": "code",
   "execution_count": 18,
   "metadata": {},
   "outputs": [
    {
     "data": {
      "text/html": [
       "<div>\n",
       "<style scoped>\n",
       "    .dataframe tbody tr th:only-of-type {\n",
       "        vertical-align: middle;\n",
       "    }\n",
       "\n",
       "    .dataframe tbody tr th {\n",
       "        vertical-align: top;\n",
       "    }\n",
       "\n",
       "    .dataframe thead th {\n",
       "        text-align: right;\n",
       "    }\n",
       "</style>\n",
       "<table border=\"1\" class=\"dataframe\">\n",
       "  <thead>\n",
       "    <tr style=\"text-align: right;\">\n",
       "      <th></th>\n",
       "      <th>text</th>\n",
       "      <th>toxic</th>\n",
       "      <th>lemmas</th>\n",
       "    </tr>\n",
       "  </thead>\n",
       "  <tbody>\n",
       "    <tr>\n",
       "      <th>159566</th>\n",
       "      <td>\":::::And for the second time of asking, when ...</td>\n",
       "      <td>0</td>\n",
       "      <td>And for the second time of asking when your vi...</td>\n",
       "    </tr>\n",
       "    <tr>\n",
       "      <th>159567</th>\n",
       "      <td>You should be ashamed of yourself \\n\\nThat is ...</td>\n",
       "      <td>0</td>\n",
       "      <td>You should be ashamed of yourself That is a ho...</td>\n",
       "    </tr>\n",
       "    <tr>\n",
       "      <th>159568</th>\n",
       "      <td>Spitzer \\n\\nUmm, theres no actual article for ...</td>\n",
       "      <td>0</td>\n",
       "      <td>Spitzer Umm theres no actual article for prost...</td>\n",
       "    </tr>\n",
       "    <tr>\n",
       "      <th>159569</th>\n",
       "      <td>And it looks like it was actually you who put ...</td>\n",
       "      <td>0</td>\n",
       "      <td>And it looks like it was actually you who put ...</td>\n",
       "    </tr>\n",
       "    <tr>\n",
       "      <th>159570</th>\n",
       "      <td>\"\\nAnd ... I really don't think you understand...</td>\n",
       "      <td>0</td>\n",
       "      <td>And I really don t think you understand I came...</td>\n",
       "    </tr>\n",
       "  </tbody>\n",
       "</table>\n",
       "</div>"
      ],
      "text/plain": [
       "                                                     text  toxic  \\\n",
       "159566  \":::::And for the second time of asking, when ...      0   \n",
       "159567  You should be ashamed of yourself \\n\\nThat is ...      0   \n",
       "159568  Spitzer \\n\\nUmm, theres no actual article for ...      0   \n",
       "159569  And it looks like it was actually you who put ...      0   \n",
       "159570  \"\\nAnd ... I really don't think you understand...      0   \n",
       "\n",
       "                                                   lemmas  \n",
       "159566  And for the second time of asking when your vi...  \n",
       "159567  You should be ashamed of yourself That is a ho...  \n",
       "159568  Spitzer Umm theres no actual article for prost...  \n",
       "159569  And it looks like it was actually you who put ...  \n",
       "159570  And I really don t think you understand I came...  "
      ]
     },
     "execution_count": 18,
     "metadata": {},
     "output_type": "execute_result"
    }
   ],
   "source": [
    "df_work.tail()"
   ]
  },
  {
   "cell_type": "markdown",
   "metadata": {},
   "source": [
    "Проведем токенезацию комментариев по словам."
   ]
  },
  {
   "cell_type": "code",
   "execution_count": 19,
   "metadata": {},
   "outputs": [],
   "source": [
    "tqdm.pandas(desc=\"progress bar!\")"
   ]
  },
  {
   "cell_type": "code",
   "execution_count": 20,
   "metadata": {},
   "outputs": [
    {
     "name": "stderr",
     "output_type": "stream",
     "text": [
      "progress bar!: 100%|██████████| 159571/159571 [00:30<00:00, 5318.96it/s]\n"
     ]
    }
   ],
   "source": [
    "df_work['lemmas'] = df_work['lemmas'].progress_apply(tokinizer)"
   ]
  },
  {
   "cell_type": "code",
   "execution_count": 21,
   "metadata": {},
   "outputs": [
    {
     "data": {
      "text/html": [
       "<div>\n",
       "<style scoped>\n",
       "    .dataframe tbody tr th:only-of-type {\n",
       "        vertical-align: middle;\n",
       "    }\n",
       "\n",
       "    .dataframe tbody tr th {\n",
       "        vertical-align: top;\n",
       "    }\n",
       "\n",
       "    .dataframe thead th {\n",
       "        text-align: right;\n",
       "    }\n",
       "</style>\n",
       "<table border=\"1\" class=\"dataframe\">\n",
       "  <thead>\n",
       "    <tr style=\"text-align: right;\">\n",
       "      <th></th>\n",
       "      <th>text</th>\n",
       "      <th>toxic</th>\n",
       "      <th>lemmas</th>\n",
       "    </tr>\n",
       "  </thead>\n",
       "  <tbody>\n",
       "    <tr>\n",
       "      <th>159566</th>\n",
       "      <td>\":::::And for the second time of asking, when ...</td>\n",
       "      <td>0</td>\n",
       "      <td>[And, for, the, second, time, of, asking, when...</td>\n",
       "    </tr>\n",
       "    <tr>\n",
       "      <th>159567</th>\n",
       "      <td>You should be ashamed of yourself \\n\\nThat is ...</td>\n",
       "      <td>0</td>\n",
       "      <td>[You, should, be, ashamed, of, yourself, That,...</td>\n",
       "    </tr>\n",
       "    <tr>\n",
       "      <th>159568</th>\n",
       "      <td>Spitzer \\n\\nUmm, theres no actual article for ...</td>\n",
       "      <td>0</td>\n",
       "      <td>[Spitzer, Umm, theres, no, actual, article, fo...</td>\n",
       "    </tr>\n",
       "    <tr>\n",
       "      <th>159569</th>\n",
       "      <td>And it looks like it was actually you who put ...</td>\n",
       "      <td>0</td>\n",
       "      <td>[And, it, looks, like, it, was, actually, you,...</td>\n",
       "    </tr>\n",
       "    <tr>\n",
       "      <th>159570</th>\n",
       "      <td>\"\\nAnd ... I really don't think you understand...</td>\n",
       "      <td>0</td>\n",
       "      <td>[And, I, really, don, t, think, you, understan...</td>\n",
       "    </tr>\n",
       "  </tbody>\n",
       "</table>\n",
       "</div>"
      ],
      "text/plain": [
       "                                                     text  toxic  \\\n",
       "159566  \":::::And for the second time of asking, when ...      0   \n",
       "159567  You should be ashamed of yourself \\n\\nThat is ...      0   \n",
       "159568  Spitzer \\n\\nUmm, theres no actual article for ...      0   \n",
       "159569  And it looks like it was actually you who put ...      0   \n",
       "159570  \"\\nAnd ... I really don't think you understand...      0   \n",
       "\n",
       "                                                   lemmas  \n",
       "159566  [And, for, the, second, time, of, asking, when...  \n",
       "159567  [You, should, be, ashamed, of, yourself, That,...  \n",
       "159568  [Spitzer, Umm, theres, no, actual, article, fo...  \n",
       "159569  [And, it, looks, like, it, was, actually, you,...  \n",
       "159570  [And, I, really, don, t, think, you, understan...  "
      ]
     },
     "execution_count": 21,
     "metadata": {},
     "output_type": "execute_result"
    }
   ],
   "source": [
    "df_work.tail()"
   ]
  },
  {
   "cell_type": "markdown",
   "metadata": {},
   "source": [
    "Проведем лемматизацию комментариев с учетом определяемого POS-тега токена."
   ]
  },
  {
   "cell_type": "code",
   "execution_count": 22,
   "metadata": {},
   "outputs": [
    {
     "name": "stderr",
     "output_type": "stream",
     "text": [
      "progress bar!: 100%|██████████| 159571/159571 [53:16<00:00, 49.93it/s] \n"
     ]
    }
   ],
   "source": [
    "df_work['lemmas'] = df_work['lemmas'].progress_apply(lemmatization)"
   ]
  },
  {
   "cell_type": "code",
   "execution_count": 23,
   "metadata": {},
   "outputs": [
    {
     "data": {
      "text/html": [
       "<div>\n",
       "<style scoped>\n",
       "    .dataframe tbody tr th:only-of-type {\n",
       "        vertical-align: middle;\n",
       "    }\n",
       "\n",
       "    .dataframe tbody tr th {\n",
       "        vertical-align: top;\n",
       "    }\n",
       "\n",
       "    .dataframe thead th {\n",
       "        text-align: right;\n",
       "    }\n",
       "</style>\n",
       "<table border=\"1\" class=\"dataframe\">\n",
       "  <thead>\n",
       "    <tr style=\"text-align: right;\">\n",
       "      <th></th>\n",
       "      <th>text</th>\n",
       "      <th>toxic</th>\n",
       "      <th>lemmas</th>\n",
       "    </tr>\n",
       "  </thead>\n",
       "  <tbody>\n",
       "    <tr>\n",
       "      <th>159566</th>\n",
       "      <td>\":::::And for the second time of asking, when ...</td>\n",
       "      <td>0</td>\n",
       "      <td>And for the second time of ask when your view ...</td>\n",
       "    </tr>\n",
       "    <tr>\n",
       "      <th>159567</th>\n",
       "      <td>You should be ashamed of yourself \\n\\nThat is ...</td>\n",
       "      <td>0</td>\n",
       "      <td>You should be ashamed of yourself That be a ho...</td>\n",
       "    </tr>\n",
       "    <tr>\n",
       "      <th>159568</th>\n",
       "      <td>Spitzer \\n\\nUmm, theres no actual article for ...</td>\n",
       "      <td>0</td>\n",
       "      <td>Spitzer Umm there no actual article for prosti...</td>\n",
       "    </tr>\n",
       "    <tr>\n",
       "      <th>159569</th>\n",
       "      <td>And it looks like it was actually you who put ...</td>\n",
       "      <td>0</td>\n",
       "      <td>And it look like it be actually you who put on...</td>\n",
       "    </tr>\n",
       "    <tr>\n",
       "      <th>159570</th>\n",
       "      <td>\"\\nAnd ... I really don't think you understand...</td>\n",
       "      <td>0</td>\n",
       "      <td>And I really don t think you understand I come...</td>\n",
       "    </tr>\n",
       "  </tbody>\n",
       "</table>\n",
       "</div>"
      ],
      "text/plain": [
       "                                                     text  toxic  \\\n",
       "159566  \":::::And for the second time of asking, when ...      0   \n",
       "159567  You should be ashamed of yourself \\n\\nThat is ...      0   \n",
       "159568  Spitzer \\n\\nUmm, theres no actual article for ...      0   \n",
       "159569  And it looks like it was actually you who put ...      0   \n",
       "159570  \"\\nAnd ... I really don't think you understand...      0   \n",
       "\n",
       "                                                   lemmas  \n",
       "159566  And for the second time of ask when your view ...  \n",
       "159567  You should be ashamed of yourself That be a ho...  \n",
       "159568  Spitzer Umm there no actual article for prosti...  \n",
       "159569  And it look like it be actually you who put on...  \n",
       "159570  And I really don t think you understand I come...  "
      ]
     },
     "execution_count": 23,
     "metadata": {},
     "output_type": "execute_result"
    }
   ],
   "source": [
    "df_work.tail()"
   ]
  },
  {
   "cell_type": "markdown",
   "metadata": {},
   "source": [
    "### Разделение исходных данных на обучающую и тестовую выборки"
   ]
  },
  {
   "cell_type": "markdown",
   "metadata": {},
   "source": [
    "Проведем разделение полученной таблицы с леммами и признаками \"токсичности\" на тренировочную и тестовую части в соотношении 4/1 соответственно. Разделение выполним с признаком стратификации данных по целевому столбцу. "
   ]
  },
  {
   "cell_type": "code",
   "execution_count": 24,
   "metadata": {},
   "outputs": [],
   "source": [
    "#разделение таблицы на тренировочную и тестовую части\n",
    "lemma_train, lemma_test, target_train, target_test = train_test_split(df_work['lemmas'], df_work['toxic'],\n",
    "                                                                      stratify=df_work['toxic'],\n",
    "                                                                      test_size=0.2)"
   ]
  },
  {
   "cell_type": "code",
   "execution_count": 25,
   "metadata": {},
   "outputs": [
    {
     "data": {
      "text/plain": [
       "(127656,)"
      ]
     },
     "execution_count": 25,
     "metadata": {},
     "output_type": "execute_result"
    }
   ],
   "source": [
    "lemma_train.shape #проверка размерности тренировочной части"
   ]
  },
  {
   "cell_type": "code",
   "execution_count": 26,
   "metadata": {},
   "outputs": [
    {
     "data": {
      "text/plain": [
       "(31915,)"
      ]
     },
     "execution_count": 26,
     "metadata": {},
     "output_type": "execute_result"
    }
   ],
   "source": [
    "lemma_test.shape #проверка размерности тестовой части"
   ]
  },
  {
   "cell_type": "code",
   "execution_count": 27,
   "metadata": {},
   "outputs": [
    {
     "data": {
      "text/plain": [
       "12980"
      ]
     },
     "execution_count": 27,
     "metadata": {},
     "output_type": "execute_result"
    }
   ],
   "source": [
    "target_train.sum() #колличество \"токсичных\" комментариев в тренировочной выборке"
   ]
  },
  {
   "cell_type": "code",
   "execution_count": 28,
   "metadata": {},
   "outputs": [
    {
     "data": {
      "text/plain": [
       "3245"
      ]
     },
     "execution_count": 28,
     "metadata": {},
     "output_type": "execute_result"
    }
   ],
   "source": [
    "target_test.sum() #колличество \"токсичных\" комментариев в тестовой выборке"
   ]
  },
  {
   "cell_type": "markdown",
   "metadata": {},
   "source": [
    "### Векторизация текстовых признаков"
   ]
  },
  {
   "cell_type": "markdown",
   "metadata": {},
   "source": [
    "Для целей обучения инициализируем векторизатор текстовых признаков полученных выборок на основе TF-IDF оценки. "
   ]
  },
  {
   "cell_type": "code",
   "execution_count": 29,
   "metadata": {},
   "outputs": [],
   "source": [
    "#инициализация TF-IDF векторизатора с учетом исключения стоп-слов англоязычной лексики\n",
    "count_tf_idf = TfidfVectorizer(stop_words=list(stop_words))"
   ]
  },
  {
   "cell_type": "markdown",
   "metadata": {},
   "source": [
    "### Вывод"
   ]
  },
  {
   "cell_type": "markdown",
   "metadata": {},
   "source": [
    "В ходе этапа подготовки данных проведены:\n",
    "- Загрузка и ознакомление с предоставленным датасетом: размерность - 159570 строк и два столбца, содержащие тексты комметариев на английском языке и  значение признака \"токсичности\". Пропуски и полные дубликаты отсутсвуют. Наблюдается дисбаланс классов (из всего объема комментраиев только 11% \"токсичные\");\n",
    "- Токенезация комментариев с предшествующим выделением регулярных выражение (только латиница во всех регистрах). В качестве единицы токенизации выбрано слово;\n",
    "- Лемматизация с учетом части речи;\n",
    "- Разделение исходных данных на обучающую и тестовую выборки в соотношении 4/1.\n",
    "- Инициализация векторизатора текстов на базе TF-IDF оценки с учетов исключения стоп-слов англоязычной лексики."
   ]
  },
  {
   "cell_type": "markdown",
   "metadata": {},
   "source": [
    "## Обучение и выбор наилучшей модели"
   ]
  },
  {
   "cell_type": "markdown",
   "metadata": {},
   "source": [
    "В качестве рассматриваемых моделей классификации обозначим следудующие: логистическая регрессия, линейная классификация методом опорных векторов, решающее дерево, случайный лес, градиентный бустинг (на базе LGBM классификатора).\n",
    "\n",
    "Учтем наличие дисбаланса определяемых классов, по мере необходимости будем использовать в рассматриваемых моделях параметр балансировки весов классов.\n",
    "\n",
    "Оценку качества моделей будем определять на базе среднего значения f1-метрики посредством кроссвалидации."
   ]
  },
  {
   "cell_type": "markdown",
   "metadata": {},
   "source": [
    "Для целей корректной векторизации текстовых признаков в процессах определения лучших параметров моделей по сетке и последующей кроссвалидации создадим функцию конвеера с пошаговым выполнением сначала векторизации, а затем вызова выбранной модели."
   ]
  },
  {
   "cell_type": "code",
   "execution_count": 30,
   "metadata": {},
   "outputs": [],
   "source": [
    "def pipe(model): #создание функции конвеера на основе принятого векторизатора текста и используемой модели\n",
    "    steps = [('vectorizer', count_tf_idf), ('classifier', model)]\n",
    "    return Pipeline(steps)"
   ]
  },
  {
   "cell_type": "markdown",
   "metadata": {},
   "source": [
    "### Модель логистической регресии"
   ]
  },
  {
   "cell_type": "code",
   "execution_count": 31,
   "metadata": {},
   "outputs": [],
   "source": [
    "parametrs_lr = {'classifier__C': [1, 5, 10, 15, 20, 30]} \n",
    "\n",
    "grid_lr = GridSearchCV(pipe(LogisticRegression(class_weight='balanced')), parametrs_lr, cv=3, scoring='f1')\n",
    "grid_lr.fit(lemma_train, target_train)\n",
    "\n",
    "С_lr = grid_lr.best_params_['classifier__C']\n",
    "\n",
    "#model_lr = LogisticRegression(class_weight='balanced')"
   ]
  },
  {
   "cell_type": "code",
   "execution_count": 32,
   "metadata": {},
   "outputs": [
    {
     "data": {
      "text/plain": [
       "{'classifier__C': 10}"
      ]
     },
     "execution_count": 32,
     "metadata": {},
     "output_type": "execute_result"
    }
   ],
   "source": [
    "grid_lr.best_params_"
   ]
  },
  {
   "cell_type": "code",
   "execution_count": 33,
   "metadata": {},
   "outputs": [],
   "source": [
    "model_lr = LogisticRegression(class_weight='balanced', C=С_lr)"
   ]
  },
  {
   "cell_type": "code",
   "execution_count": 34,
   "metadata": {},
   "outputs": [
    {
     "data": {
      "text/plain": [
       "0.7575213792863242"
      ]
     },
     "execution_count": 34,
     "metadata": {},
     "output_type": "execute_result"
    }
   ],
   "source": [
    "f1_lr = cross_val_score(pipe(model_lr), lemma_train, target_train, cv=3, scoring='f1').mean()\n",
    "f1_lr"
   ]
  },
  {
   "cell_type": "markdown",
   "metadata": {},
   "source": [
    "### Модель линейной классификации методом опорных векторов"
   ]
  },
  {
   "cell_type": "code",
   "execution_count": 35,
   "metadata": {},
   "outputs": [],
   "source": [
    "model_lsvc = LinearSVC(class_weight='balanced')"
   ]
  },
  {
   "cell_type": "code",
   "execution_count": 36,
   "metadata": {},
   "outputs": [
    {
     "data": {
      "text/plain": [
       "0.7520836122028184"
      ]
     },
     "execution_count": 36,
     "metadata": {},
     "output_type": "execute_result"
    }
   ],
   "source": [
    "f1_lsvc = cross_val_score(pipe(model_lsvc), lemma_train, target_train, cv=3, scoring='f1').mean()\n",
    "f1_lsvc"
   ]
  },
  {
   "cell_type": "markdown",
   "metadata": {},
   "source": [
    "### Модель решающего дерева"
   ]
  },
  {
   "cell_type": "code",
   "execution_count": 37,
   "metadata": {},
   "outputs": [],
   "source": [
    "#подбор гиперпараметров модели \"решающего дерева\"\n",
    "parametrs_dt = {'classifier__max_depth': range (30, 51, 10),\n",
    "                'classifier__class_weight': ['balanced', None]} \n",
    "\n",
    "grid_dt = GridSearchCV(pipe(DecisionTreeClassifier(random_state=12345)), parametrs_dt, cv=3, scoring='f1')\n",
    "grid_dt.fit(lemma_train, target_train)\n",
    "\n",
    "max_depth_dt = grid_dt.best_params_['classifier__max_depth']\n",
    "class_weight_dt = grid_dt.best_params_['classifier__class_weight']"
   ]
  },
  {
   "cell_type": "code",
   "execution_count": 38,
   "metadata": {},
   "outputs": [
    {
     "data": {
      "text/plain": [
       "{'classifier__class_weight': None, 'classifier__max_depth': 50}"
      ]
     },
     "execution_count": 38,
     "metadata": {},
     "output_type": "execute_result"
    }
   ],
   "source": [
    "grid_dt.best_params_"
   ]
  },
  {
   "cell_type": "code",
   "execution_count": 39,
   "metadata": {},
   "outputs": [],
   "source": [
    "model_dt = DecisionTreeClassifier(random_state=12345, max_depth=max_depth_dt, class_weight=class_weight_dt)"
   ]
  },
  {
   "cell_type": "code",
   "execution_count": 40,
   "metadata": {},
   "outputs": [
    {
     "data": {
      "text/plain": [
       "0.6944100819011715"
      ]
     },
     "execution_count": 40,
     "metadata": {},
     "output_type": "execute_result"
    }
   ],
   "source": [
    "f1_dt = cross_val_score(pipe(model_dt), lemma_train, target_train, cv=3, scoring='f1').mean()\n",
    "f1_dt"
   ]
  },
  {
   "cell_type": "markdown",
   "metadata": {},
   "source": [
    "### Модель случайного леса"
   ]
  },
  {
   "cell_type": "code",
   "execution_count": 41,
   "metadata": {},
   "outputs": [],
   "source": [
    "#подбор гиперпараметров модели \"случайного леса\"\n",
    "parametrs_rf = {'classifier__n_estimators' : range (25, 76, 25),\n",
    "                'classifier__max_depth': range (25, 51, 25),\n",
    "                'classifier__class_weight': ['balanced', None]} \n",
    "\n",
    "grid_rf = GridSearchCV(pipe(RandomForestClassifier(random_state=12345)), parametrs_rf, cv=3, scoring='f1')\n",
    "grid_rf.fit(lemma_train, target_train)\n",
    "\n",
    "n_estimators_rf = grid_rf.best_params_['classifier__n_estimators']\n",
    "max_depth_rf = grid_rf.best_params_['classifier__max_depth']\n",
    "class_weight_rf = grid_rf.best_params_['classifier__class_weight']"
   ]
  },
  {
   "cell_type": "code",
   "execution_count": 42,
   "metadata": {},
   "outputs": [
    {
     "data": {
      "text/plain": [
       "{'classifier__class_weight': 'balanced',\n",
       " 'classifier__max_depth': 50,\n",
       " 'classifier__n_estimators': 75}"
      ]
     },
     "execution_count": 42,
     "metadata": {},
     "output_type": "execute_result"
    }
   ],
   "source": [
    "grid_rf.best_params_"
   ]
  },
  {
   "cell_type": "code",
   "execution_count": 43,
   "metadata": {},
   "outputs": [],
   "source": [
    "model_rf = RandomForestClassifier(random_state=12345, n_estimators=n_estimators_rf, max_depth=max_depth_rf, class_weight=class_weight_rf)"
   ]
  },
  {
   "cell_type": "code",
   "execution_count": 44,
   "metadata": {},
   "outputs": [
    {
     "data": {
      "text/plain": [
       "0.4680389203553427"
      ]
     },
     "execution_count": 44,
     "metadata": {},
     "output_type": "execute_result"
    }
   ],
   "source": [
    "f1_rf = cross_val_score(pipe(model_rf), lemma_train, target_train, cv=3, scoring='f1').mean()\n",
    "f1_rf"
   ]
  },
  {
   "cell_type": "markdown",
   "metadata": {},
   "source": [
    "### Модель градиентного бустинга на базе LightGBM"
   ]
  },
  {
   "cell_type": "code",
   "execution_count": 45,
   "metadata": {
    "scrolled": true
   },
   "outputs": [
    {
     "name": "stdout",
     "output_type": "stream",
     "text": [
      "[LightGBM] [Info] Number of positive: 8654, number of negative: 76450\n",
      "[LightGBM] [Warning] Auto-choosing row-wise multi-threading, the overhead of testing was 1.208733 seconds.\n",
      "You can set `force_row_wise=true` to remove the overhead.\n",
      "And if memory is not enough, you can set `force_col_wise=true`.\n",
      "[LightGBM] [Info] Total Bins 412393\n",
      "[LightGBM] [Info] Number of data points in the train set: 85104, number of used features: 8023\n",
      "[LightGBM] [Info] [binary:BoostFromScore]: pavg=0.500000 -> initscore=0.000000\n",
      "[LightGBM] [Info] Start training from score 0.000000\n",
      "[LightGBM] [Info] Number of positive: 8653, number of negative: 76451\n",
      "[LightGBM] [Warning] Auto-choosing col-wise multi-threading, the overhead of testing was 1.077165 seconds.\n",
      "You can set `force_col_wise=true` to remove the overhead.\n",
      "[LightGBM] [Info] Total Bins 413256\n",
      "[LightGBM] [Info] Number of data points in the train set: 85104, number of used features: 8027\n",
      "[LightGBM] [Info] [binary:BoostFromScore]: pavg=0.500000 -> initscore=-0.000000\n",
      "[LightGBM] [Info] Start training from score -0.000000\n",
      "[LightGBM] [Info] Number of positive: 8653, number of negative: 76451\n",
      "[LightGBM] [Warning] Auto-choosing row-wise multi-threading, the overhead of testing was 1.217298 seconds.\n",
      "You can set `force_row_wise=true` to remove the overhead.\n",
      "And if memory is not enough, you can set `force_col_wise=true`.\n",
      "[LightGBM] [Info] Total Bins 412741\n",
      "[LightGBM] [Info] Number of data points in the train set: 85104, number of used features: 8037\n",
      "[LightGBM] [Info] [binary:BoostFromScore]: pavg=0.500000 -> initscore=-0.000000\n",
      "[LightGBM] [Info] Start training from score -0.000000\n",
      "[LightGBM] [Info] Number of positive: 8654, number of negative: 76450\n",
      "[LightGBM] [Warning] Auto-choosing col-wise multi-threading, the overhead of testing was 1.183048 seconds.\n",
      "You can set `force_col_wise=true` to remove the overhead.\n",
      "[LightGBM] [Info] Total Bins 412393\n",
      "[LightGBM] [Info] Number of data points in the train set: 85104, number of used features: 8023\n",
      "[LightGBM] [Info] [binary:BoostFromScore]: pavg=0.500000 -> initscore=0.000000\n",
      "[LightGBM] [Info] Start training from score 0.000000\n",
      "[LightGBM] [Info] Number of positive: 8653, number of negative: 76451\n",
      "[LightGBM] [Warning] Auto-choosing col-wise multi-threading, the overhead of testing was 1.253989 seconds.\n",
      "You can set `force_col_wise=true` to remove the overhead.\n",
      "[LightGBM] [Info] Total Bins 413256\n",
      "[LightGBM] [Info] Number of data points in the train set: 85104, number of used features: 8027\n",
      "[LightGBM] [Info] [binary:BoostFromScore]: pavg=0.500000 -> initscore=-0.000000\n",
      "[LightGBM] [Info] Start training from score -0.000000\n",
      "[LightGBM] [Info] Number of positive: 8653, number of negative: 76451\n",
      "[LightGBM] [Warning] Auto-choosing col-wise multi-threading, the overhead of testing was 1.187109 seconds.\n",
      "You can set `force_col_wise=true` to remove the overhead.\n",
      "[LightGBM] [Info] Total Bins 412741\n",
      "[LightGBM] [Info] Number of data points in the train set: 85104, number of used features: 8037\n",
      "[LightGBM] [Info] [binary:BoostFromScore]: pavg=0.500000 -> initscore=-0.000000\n",
      "[LightGBM] [Info] Start training from score -0.000000\n",
      "[LightGBM] [Info] Number of positive: 8654, number of negative: 76450\n",
      "[LightGBM] [Warning] Auto-choosing row-wise multi-threading, the overhead of testing was 1.259780 seconds.\n",
      "You can set `force_row_wise=true` to remove the overhead.\n",
      "And if memory is not enough, you can set `force_col_wise=true`.\n",
      "[LightGBM] [Info] Total Bins 412393\n",
      "[LightGBM] [Info] Number of data points in the train set: 85104, number of used features: 8023\n",
      "[LightGBM] [Info] [binary:BoostFromScore]: pavg=0.500000 -> initscore=0.000000\n",
      "[LightGBM] [Info] Start training from score 0.000000\n",
      "[LightGBM] [Info] Number of positive: 8653, number of negative: 76451\n",
      "[LightGBM] [Warning] Auto-choosing col-wise multi-threading, the overhead of testing was 1.234952 seconds.\n",
      "You can set `force_col_wise=true` to remove the overhead.\n",
      "[LightGBM] [Info] Total Bins 413256\n",
      "[LightGBM] [Info] Number of data points in the train set: 85104, number of used features: 8027\n",
      "[LightGBM] [Info] [binary:BoostFromScore]: pavg=0.500000 -> initscore=-0.000000\n",
      "[LightGBM] [Info] Start training from score -0.000000\n",
      "[LightGBM] [Info] Number of positive: 8653, number of negative: 76451\n",
      "[LightGBM] [Warning] Auto-choosing col-wise multi-threading, the overhead of testing was 1.225258 seconds.\n",
      "You can set `force_col_wise=true` to remove the overhead.\n",
      "[LightGBM] [Info] Total Bins 412741\n",
      "[LightGBM] [Info] Number of data points in the train set: 85104, number of used features: 8037\n",
      "[LightGBM] [Info] [binary:BoostFromScore]: pavg=0.500000 -> initscore=-0.000000\n",
      "[LightGBM] [Info] Start training from score -0.000000\n",
      "[LightGBM] [Info] Number of positive: 8654, number of negative: 76450\n",
      "[LightGBM] [Warning] Auto-choosing col-wise multi-threading, the overhead of testing was 1.103748 seconds.\n",
      "You can set `force_col_wise=true` to remove the overhead.\n",
      "[LightGBM] [Info] Total Bins 412393\n",
      "[LightGBM] [Info] Number of data points in the train set: 85104, number of used features: 8023\n",
      "[LightGBM] [Info] [binary:BoostFromScore]: pavg=0.500000 -> initscore=0.000000\n",
      "[LightGBM] [Info] Start training from score 0.000000\n",
      "[LightGBM] [Info] Number of positive: 8653, number of negative: 76451\n",
      "[LightGBM] [Warning] Auto-choosing col-wise multi-threading, the overhead of testing was 1.092838 seconds.\n",
      "You can set `force_col_wise=true` to remove the overhead.\n",
      "[LightGBM] [Info] Total Bins 413256\n",
      "[LightGBM] [Info] Number of data points in the train set: 85104, number of used features: 8027\n",
      "[LightGBM] [Info] [binary:BoostFromScore]: pavg=0.500000 -> initscore=-0.000000\n",
      "[LightGBM] [Info] Start training from score -0.000000\n",
      "[LightGBM] [Info] Number of positive: 8653, number of negative: 76451\n",
      "[LightGBM] [Warning] Auto-choosing row-wise multi-threading, the overhead of testing was 1.153533 seconds.\n",
      "You can set `force_row_wise=true` to remove the overhead.\n",
      "And if memory is not enough, you can set `force_col_wise=true`.\n",
      "[LightGBM] [Info] Total Bins 412741\n",
      "[LightGBM] [Info] Number of data points in the train set: 85104, number of used features: 8037\n",
      "[LightGBM] [Info] [binary:BoostFromScore]: pavg=0.500000 -> initscore=-0.000000\n",
      "[LightGBM] [Info] Start training from score -0.000000\n",
      "[LightGBM] [Info] Number of positive: 12980, number of negative: 114676\n",
      "[LightGBM] [Warning] Auto-choosing row-wise multi-threading, the overhead of testing was 2.328659 seconds.\n",
      "You can set `force_row_wise=true` to remove the overhead.\n",
      "And if memory is not enough, you can set `force_col_wise=true`.\n",
      "[LightGBM] [Info] Total Bins 555489\n",
      "[LightGBM] [Info] Number of data points in the train set: 127656, number of used features: 10345\n",
      "[LightGBM] [Info] [binary:BoostFromScore]: pavg=0.500000 -> initscore=-0.000000\n",
      "[LightGBM] [Info] Start training from score -0.000000\n"
     ]
    }
   ],
   "source": [
    "parametrs_gb = {'classifier__num_leaves' :[30, 50],\n",
    "                'classifier__n_estimators': [100, 150]}\n",
    "\n",
    "grid_gb = GridSearchCV(pipe(LGBMClassifier(random_state=12345, class_weight='balanced')), parametrs_gb, cv=3, scoring='f1')\n",
    "grid_gb.fit(lemma_train, target_train)\n",
    "\n",
    "num_leaves_gb = grid_gb.best_params_['classifier__num_leaves']\n",
    "n_estimators_gb = grid_gb.best_params_['classifier__n_estimators']"
   ]
  },
  {
   "cell_type": "code",
   "execution_count": 46,
   "metadata": {},
   "outputs": [
    {
     "data": {
      "text/plain": [
       "{'classifier__n_estimators': 150, 'classifier__num_leaves': 50}"
      ]
     },
     "execution_count": 46,
     "metadata": {},
     "output_type": "execute_result"
    }
   ],
   "source": [
    "grid_gb.best_params_"
   ]
  },
  {
   "cell_type": "code",
   "execution_count": 47,
   "metadata": {},
   "outputs": [],
   "source": [
    "model_gb = LGBMClassifier(random_state=12345, n_estimators=num_leaves_gb, num_leaves=num_leaves_gb, class_weight = 'balanced')"
   ]
  },
  {
   "cell_type": "code",
   "execution_count": 48,
   "metadata": {
    "scrolled": true
   },
   "outputs": [
    {
     "name": "stdout",
     "output_type": "stream",
     "text": [
      "[LightGBM] [Info] Number of positive: 8654, number of negative: 76450\n",
      "[LightGBM] [Warning] Auto-choosing row-wise multi-threading, the overhead of testing was 1.180270 seconds.\n",
      "You can set `force_row_wise=true` to remove the overhead.\n",
      "And if memory is not enough, you can set `force_col_wise=true`.\n",
      "[LightGBM] [Info] Total Bins 412393\n",
      "[LightGBM] [Info] Number of data points in the train set: 85104, number of used features: 8023\n",
      "[LightGBM] [Info] [binary:BoostFromScore]: pavg=0.500000 -> initscore=0.000000\n",
      "[LightGBM] [Info] Start training from score 0.000000\n",
      "[LightGBM] [Info] Number of positive: 8653, number of negative: 76451\n",
      "[LightGBM] [Warning] Auto-choosing row-wise multi-threading, the overhead of testing was 1.256642 seconds.\n",
      "You can set `force_row_wise=true` to remove the overhead.\n",
      "And if memory is not enough, you can set `force_col_wise=true`.\n",
      "[LightGBM] [Info] Total Bins 413256\n",
      "[LightGBM] [Info] Number of data points in the train set: 85104, number of used features: 8027\n",
      "[LightGBM] [Info] [binary:BoostFromScore]: pavg=0.500000 -> initscore=-0.000000\n",
      "[LightGBM] [Info] Start training from score -0.000000\n",
      "[LightGBM] [Info] Number of positive: 8653, number of negative: 76451\n",
      "[LightGBM] [Warning] Auto-choosing col-wise multi-threading, the overhead of testing was 1.057737 seconds.\n",
      "You can set `force_col_wise=true` to remove the overhead.\n",
      "[LightGBM] [Info] Total Bins 412741\n",
      "[LightGBM] [Info] Number of data points in the train set: 85104, number of used features: 8037\n",
      "[LightGBM] [Info] [binary:BoostFromScore]: pavg=0.500000 -> initscore=-0.000000\n",
      "[LightGBM] [Info] Start training from score -0.000000\n"
     ]
    },
    {
     "data": {
      "text/plain": [
       "0.7141258878884136"
      ]
     },
     "execution_count": 48,
     "metadata": {},
     "output_type": "execute_result"
    }
   ],
   "source": [
    "f1_gb = cross_val_score(pipe(model_gb), lemma_train, target_train, cv=3, scoring='f1').mean()\n",
    "f1_gb"
   ]
  },
  {
   "cell_type": "code",
   "execution_count": 49,
   "metadata": {},
   "outputs": [],
   "source": [
    "results = {'Model': ['Logistic Regression', 'LinearSVC', 'Decision Tree', 'Random Forest', 'LightGBM'], \n",
    "           'f1_score': [f1_lr, f1_lsvc, f1_dt, f1_rf, f1_gb]} "
   ]
  },
  {
   "cell_type": "markdown",
   "metadata": {},
   "source": [
    "### Вывод"
   ]
  },
  {
   "cell_type": "code",
   "execution_count": 50,
   "metadata": {},
   "outputs": [
    {
     "data": {
      "text/html": [
       "<div>\n",
       "<style scoped>\n",
       "    .dataframe tbody tr th:only-of-type {\n",
       "        vertical-align: middle;\n",
       "    }\n",
       "\n",
       "    .dataframe tbody tr th {\n",
       "        vertical-align: top;\n",
       "    }\n",
       "\n",
       "    .dataframe thead th {\n",
       "        text-align: right;\n",
       "    }\n",
       "</style>\n",
       "<table border=\"1\" class=\"dataframe\">\n",
       "  <thead>\n",
       "    <tr style=\"text-align: right;\">\n",
       "      <th></th>\n",
       "      <th>Model</th>\n",
       "      <th>f1_score</th>\n",
       "    </tr>\n",
       "  </thead>\n",
       "  <tbody>\n",
       "    <tr>\n",
       "      <th>0</th>\n",
       "      <td>Logistic Regression</td>\n",
       "      <td>0.757521</td>\n",
       "    </tr>\n",
       "    <tr>\n",
       "      <th>1</th>\n",
       "      <td>LinearSVC</td>\n",
       "      <td>0.752084</td>\n",
       "    </tr>\n",
       "    <tr>\n",
       "      <th>2</th>\n",
       "      <td>Decision Tree</td>\n",
       "      <td>0.694410</td>\n",
       "    </tr>\n",
       "    <tr>\n",
       "      <th>3</th>\n",
       "      <td>Random Forest</td>\n",
       "      <td>0.468039</td>\n",
       "    </tr>\n",
       "    <tr>\n",
       "      <th>4</th>\n",
       "      <td>LightGBM</td>\n",
       "      <td>0.714126</td>\n",
       "    </tr>\n",
       "  </tbody>\n",
       "</table>\n",
       "</div>"
      ],
      "text/plain": [
       "                 Model  f1_score\n",
       "0  Logistic Regression  0.757521\n",
       "1            LinearSVC  0.752084\n",
       "2        Decision Tree  0.694410\n",
       "3        Random Forest  0.468039\n",
       "4             LightGBM  0.714126"
      ]
     },
     "execution_count": 50,
     "metadata": {},
     "output_type": "execute_result"
    }
   ],
   "source": [
    "models_results = pd.DataFrame(results)\n",
    "models_results"
   ]
  },
  {
   "cell_type": "markdown",
   "metadata": {},
   "source": [
    "В ходе исследования были подготовлены и обучены следудующие модели классификации: логистическая регрессия, линейная классификация методом опорных векторов, решающее дерево, случайный лес, градиентный бустинг (на базе LGBM классификатора). В результате исследования установлено, что наилучшей средней метрикой f1, полученной на кроссвалидации является модель логистической регресии с парамтерами балансировки весов классов и параметром С=10. Наихудшие результаты у модели случайного леса."
   ]
  },
  {
   "cell_type": "markdown",
   "metadata": {},
   "source": [
    "## Тестирование наилучшей модели"
   ]
  },
  {
   "cell_type": "markdown",
   "metadata": {},
   "source": [
    "### Тестирование модели"
   ]
  },
  {
   "cell_type": "markdown",
   "metadata": {},
   "source": [
    "Проведем тестирование наилучшей модели (модели логистической регресии) на тестовой выборке данных."
   ]
  },
  {
   "cell_type": "markdown",
   "metadata": {},
   "source": [
    "Проведем векторизацию тектстовых признаков для обучающей и тестовой выборки."
   ]
  },
  {
   "cell_type": "code",
   "execution_count": 51,
   "metadata": {},
   "outputs": [],
   "source": [
    "tf_idf_train = count_tf_idf.fit_transform(lemma_train)\n",
    "tf_idf_test = count_tf_idf.transform(lemma_test)"
   ]
  },
  {
   "cell_type": "markdown",
   "metadata": {},
   "source": [
    "Проведем обучение модели на обучающей выборке."
   ]
  },
  {
   "cell_type": "code",
   "execution_count": 52,
   "metadata": {},
   "outputs": [
    {
     "data": {
      "text/html": [
       "<style>#sk-container-id-1 {color: black;}#sk-container-id-1 pre{padding: 0;}#sk-container-id-1 div.sk-toggleable {background-color: white;}#sk-container-id-1 label.sk-toggleable__label {cursor: pointer;display: block;width: 100%;margin-bottom: 0;padding: 0.3em;box-sizing: border-box;text-align: center;}#sk-container-id-1 label.sk-toggleable__label-arrow:before {content: \"▸\";float: left;margin-right: 0.25em;color: #696969;}#sk-container-id-1 label.sk-toggleable__label-arrow:hover:before {color: black;}#sk-container-id-1 div.sk-estimator:hover label.sk-toggleable__label-arrow:before {color: black;}#sk-container-id-1 div.sk-toggleable__content {max-height: 0;max-width: 0;overflow: hidden;text-align: left;background-color: #f0f8ff;}#sk-container-id-1 div.sk-toggleable__content pre {margin: 0.2em;color: black;border-radius: 0.25em;background-color: #f0f8ff;}#sk-container-id-1 input.sk-toggleable__control:checked~div.sk-toggleable__content {max-height: 200px;max-width: 100%;overflow: auto;}#sk-container-id-1 input.sk-toggleable__control:checked~label.sk-toggleable__label-arrow:before {content: \"▾\";}#sk-container-id-1 div.sk-estimator input.sk-toggleable__control:checked~label.sk-toggleable__label {background-color: #d4ebff;}#sk-container-id-1 div.sk-label input.sk-toggleable__control:checked~label.sk-toggleable__label {background-color: #d4ebff;}#sk-container-id-1 input.sk-hidden--visually {border: 0;clip: rect(1px 1px 1px 1px);clip: rect(1px, 1px, 1px, 1px);height: 1px;margin: -1px;overflow: hidden;padding: 0;position: absolute;width: 1px;}#sk-container-id-1 div.sk-estimator {font-family: monospace;background-color: #f0f8ff;border: 1px dotted black;border-radius: 0.25em;box-sizing: border-box;margin-bottom: 0.5em;}#sk-container-id-1 div.sk-estimator:hover {background-color: #d4ebff;}#sk-container-id-1 div.sk-parallel-item::after {content: \"\";width: 100%;border-bottom: 1px solid gray;flex-grow: 1;}#sk-container-id-1 div.sk-label:hover label.sk-toggleable__label {background-color: #d4ebff;}#sk-container-id-1 div.sk-serial::before {content: \"\";position: absolute;border-left: 1px solid gray;box-sizing: border-box;top: 0;bottom: 0;left: 50%;z-index: 0;}#sk-container-id-1 div.sk-serial {display: flex;flex-direction: column;align-items: center;background-color: white;padding-right: 0.2em;padding-left: 0.2em;position: relative;}#sk-container-id-1 div.sk-item {position: relative;z-index: 1;}#sk-container-id-1 div.sk-parallel {display: flex;align-items: stretch;justify-content: center;background-color: white;position: relative;}#sk-container-id-1 div.sk-item::before, #sk-container-id-1 div.sk-parallel-item::before {content: \"\";position: absolute;border-left: 1px solid gray;box-sizing: border-box;top: 0;bottom: 0;left: 50%;z-index: -1;}#sk-container-id-1 div.sk-parallel-item {display: flex;flex-direction: column;z-index: 1;position: relative;background-color: white;}#sk-container-id-1 div.sk-parallel-item:first-child::after {align-self: flex-end;width: 50%;}#sk-container-id-1 div.sk-parallel-item:last-child::after {align-self: flex-start;width: 50%;}#sk-container-id-1 div.sk-parallel-item:only-child::after {width: 0;}#sk-container-id-1 div.sk-dashed-wrapped {border: 1px dashed gray;margin: 0 0.4em 0.5em 0.4em;box-sizing: border-box;padding-bottom: 0.4em;background-color: white;}#sk-container-id-1 div.sk-label label {font-family: monospace;font-weight: bold;display: inline-block;line-height: 1.2em;}#sk-container-id-1 div.sk-label-container {text-align: center;}#sk-container-id-1 div.sk-container {/* jupyter's `normalize.less` sets `[hidden] { display: none; }` but bootstrap.min.css set `[hidden] { display: none !important; }` so we also need the `!important` here to be able to override the default hidden behavior on the sphinx rendered scikit-learn.org. See: https://github.com/scikit-learn/scikit-learn/issues/21755 */display: inline-block !important;position: relative;}#sk-container-id-1 div.sk-text-repr-fallback {display: none;}</style><div id=\"sk-container-id-1\" class=\"sk-top-container\"><div class=\"sk-text-repr-fallback\"><pre>LogisticRegression(C=10, class_weight=&#x27;balanced&#x27;)</pre><b>In a Jupyter environment, please rerun this cell to show the HTML representation or trust the notebook. <br />On GitHub, the HTML representation is unable to render, please try loading this page with nbviewer.org.</b></div><div class=\"sk-container\" hidden><div class=\"sk-item\"><div class=\"sk-estimator sk-toggleable\"><input class=\"sk-toggleable__control sk-hidden--visually\" id=\"sk-estimator-id-1\" type=\"checkbox\" checked><label for=\"sk-estimator-id-1\" class=\"sk-toggleable__label sk-toggleable__label-arrow\">LogisticRegression</label><div class=\"sk-toggleable__content\"><pre>LogisticRegression(C=10, class_weight=&#x27;balanced&#x27;)</pre></div></div></div></div></div>"
      ],
      "text/plain": [
       "LogisticRegression(C=10, class_weight='balanced')"
      ]
     },
     "execution_count": 52,
     "metadata": {},
     "output_type": "execute_result"
    }
   ],
   "source": [
    "best_model = model_lr\n",
    "best_model.fit(tf_idf_train, target_train)"
   ]
  },
  {
   "cell_type": "markdown",
   "metadata": {},
   "source": [
    "Определим прогнозные значения полученной модели на тестовой выборке"
   ]
  },
  {
   "cell_type": "code",
   "execution_count": 53,
   "metadata": {},
   "outputs": [],
   "source": [
    "prediction = best_model.predict(tf_idf_test)"
   ]
  },
  {
   "cell_type": "markdown",
   "metadata": {},
   "source": [
    "Определим качество полученного прогноза на основании f1 метрики."
   ]
  },
  {
   "cell_type": "code",
   "execution_count": 54,
   "metadata": {},
   "outputs": [
    {
     "data": {
      "text/plain": [
       "0.7569335798606173"
      ]
     },
     "execution_count": 54,
     "metadata": {},
     "output_type": "execute_result"
    }
   ],
   "source": [
    "f1_score(target_test, prediction)"
   ]
  },
  {
   "cell_type": "markdown",
   "metadata": {},
   "source": [
    "### Вывод"
   ]
  },
  {
   "cell_type": "markdown",
   "metadata": {},
   "source": [
    "Тестирование наилучшей модели (модели логистической регресии) на тестовой выборке данных показало, что модель удовлетворяет заданным значениям f1 метрики: не менее 0,75. Таким образом, модель обладает достаточным качеством."
   ]
  },
  {
   "cell_type": "markdown",
   "metadata": {},
   "source": [
    "## Выводы"
   ]
  },
  {
   "cell_type": "markdown",
   "metadata": {},
   "source": [
    "Цель исследования: создание и обучение модели классификации для разделения текстовых комментариев описания товаров интернет-магазина на позитивные и негативные.\n",
    "\n",
    "Целевая метрика качества: *f1* не меньше 0.75. \n",
    "\n",
    "В ходе этапа подготовки данных проведены:\n",
    "- Загрузка и ознакомление с предоставленным датасетом. Пропуски и полные дубликаты отсутсвуют. Наблюдается дисбаланс классов (из всего объема комментраиев только 11% \"токсичные\");\n",
    "- Токенезация комментариев;\n",
    "- Лемматизация с учетом части речи;\n",
    "- Разделение исходных данных на обучающую и тестовую выборки в соотношении 4/1.\n",
    "- Инициализация векторизатора текстов на базе TF-IDF оценки с учетов исключения стоп-слов англоязычной лексики.\n",
    "\n",
    "\n",
    "В ходе исследования были подготовлены и обучены следудующие модели классификации: логистическая регрессия, линейная классификация методом опорных векторов, решающее дерево, случайный лес, градиентный бустинг (на базе LGBM классификатора). В результате исследования установлено, что наилучшей средней метрикой f1, полученной на кроссвалидации является модель логистической регресиии.\n",
    "\n",
    "Тестирование наилучшей модели показало ее соответсвие целевой метрике качества: *f1* не меньше 0.75 (f1=0.762)."
   ]
  }
 ],
 "metadata": {
  "ExecuteTimeLog": [
   {
    "duration": 3334,
    "start_time": "2022-05-18T06:53:06.451Z"
   },
   {
    "duration": 2344,
    "start_time": "2022-05-18T06:53:09.787Z"
   },
   {
    "duration": 9,
    "start_time": "2022-05-18T06:53:12.133Z"
   },
   {
    "duration": 36,
    "start_time": "2022-05-18T06:53:12.145Z"
   },
   {
    "duration": 9,
    "start_time": "2022-05-18T06:53:12.183Z"
   },
   {
    "duration": 35,
    "start_time": "2022-05-18T06:53:12.194Z"
   },
   {
    "duration": 244,
    "start_time": "2022-05-18T06:53:12.231Z"
   },
   {
    "duration": 16,
    "start_time": "2022-05-18T06:53:12.476Z"
   },
   {
    "duration": 10,
    "start_time": "2022-05-18T06:53:12.493Z"
   },
   {
    "duration": 40,
    "start_time": "2022-05-18T06:53:12.505Z"
   },
   {
    "duration": 7,
    "start_time": "2022-05-18T06:53:12.547Z"
   },
   {
    "duration": 9,
    "start_time": "2022-05-18T06:53:12.556Z"
   },
   {
    "duration": 20,
    "start_time": "2022-05-18T06:53:12.568Z"
   },
   {
    "duration": 7,
    "start_time": "2022-05-18T06:53:12.590Z"
   },
   {
    "duration": 12,
    "start_time": "2022-05-18T06:53:12.599Z"
   },
   {
    "duration": 12,
    "start_time": "2022-05-18T06:53:12.613Z"
   },
   {
    "duration": 3977,
    "start_time": "2022-05-18T06:53:12.627Z"
   },
   {
    "duration": 7,
    "start_time": "2022-05-18T06:53:16.606Z"
   },
   {
    "duration": 47248,
    "start_time": "2022-05-18T06:53:16.614Z"
   },
   {
    "duration": 9,
    "start_time": "2022-05-18T06:54:03.863Z"
   },
   {
    "duration": 1123566,
    "start_time": "2022-05-18T06:54:03.873Z"
   },
   {
    "duration": 9,
    "start_time": "2022-05-18T07:12:47.440Z"
   },
   {
    "duration": 9,
    "start_time": "2022-05-18T07:12:47.450Z"
   },
   {
    "duration": 8,
    "start_time": "2022-05-18T07:12:47.461Z"
   },
   {
    "duration": 5,
    "start_time": "2022-05-18T07:12:47.471Z"
   },
   {
    "duration": 5,
    "start_time": "2022-05-18T07:12:47.478Z"
   },
   {
    "duration": 81,
    "start_time": "2022-05-18T07:12:47.484Z"
   },
   {
    "duration": 4,
    "start_time": "2022-05-18T07:12:47.570Z"
   },
   {
    "duration": 7,
    "start_time": "2022-05-18T07:12:47.576Z"
   },
   {
    "duration": 48,
    "start_time": "2022-05-18T07:12:47.585Z"
   },
   {
    "duration": 4,
    "start_time": "2022-05-18T07:12:47.636Z"
   },
   {
    "duration": 8,
    "start_time": "2022-05-18T07:12:47.642Z"
   },
   {
    "duration": 17,
    "start_time": "2022-05-18T07:12:47.652Z"
   },
   {
    "duration": 10,
    "start_time": "2022-05-18T07:12:47.671Z"
   },
   {
    "duration": 9,
    "start_time": "2022-05-18T07:12:47.683Z"
   },
   {
    "duration": 5,
    "start_time": "2022-05-18T07:12:47.694Z"
   },
   {
    "duration": 64464,
    "start_time": "2022-05-18T07:12:47.701Z"
   },
   {
    "duration": 5741,
    "start_time": "2022-05-18T07:13:52.166Z"
   },
   {
    "duration": 5922,
    "start_time": "2022-05-18T07:13:57.909Z"
   },
   {
    "duration": 2,
    "start_time": "2022-05-18T07:14:03.833Z"
   },
   {
    "duration": 2179,
    "start_time": "2022-05-18T07:15:16.881Z"
   },
   {
    "duration": 2315,
    "start_time": "2022-05-18T07:15:19.061Z"
   },
   {
    "duration": 9,
    "start_time": "2022-05-18T07:15:21.377Z"
   },
   {
    "duration": 43,
    "start_time": "2022-05-18T07:15:21.389Z"
   },
   {
    "duration": 9,
    "start_time": "2022-05-18T07:15:21.433Z"
   },
   {
    "duration": 27,
    "start_time": "2022-05-18T07:15:21.444Z"
   },
   {
    "duration": 232,
    "start_time": "2022-05-18T07:15:21.473Z"
   },
   {
    "duration": 24,
    "start_time": "2022-05-18T07:15:21.707Z"
   },
   {
    "duration": 10,
    "start_time": "2022-05-18T07:15:21.732Z"
   },
   {
    "duration": 16,
    "start_time": "2022-05-18T07:15:21.745Z"
   },
   {
    "duration": 6,
    "start_time": "2022-05-18T07:15:21.763Z"
   },
   {
    "duration": 8,
    "start_time": "2022-05-18T07:15:21.770Z"
   },
   {
    "duration": 4,
    "start_time": "2022-05-18T07:15:21.780Z"
   },
   {
    "duration": 5,
    "start_time": "2022-05-18T07:15:21.785Z"
   },
   {
    "duration": 33,
    "start_time": "2022-05-18T07:15:21.791Z"
   },
   {
    "duration": 8,
    "start_time": "2022-05-18T07:15:21.826Z"
   },
   {
    "duration": 3986,
    "start_time": "2022-05-18T07:15:21.836Z"
   },
   {
    "duration": 10,
    "start_time": "2022-05-18T07:15:25.824Z"
   },
   {
    "duration": 48159,
    "start_time": "2022-05-18T07:15:25.835Z"
   },
   {
    "duration": 10,
    "start_time": "2022-05-18T07:16:13.996Z"
   },
   {
    "duration": 1156959,
    "start_time": "2022-05-18T07:16:14.008Z"
   },
   {
    "duration": 8,
    "start_time": "2022-05-18T07:35:30.969Z"
   },
   {
    "duration": 97,
    "start_time": "2022-05-18T07:35:30.979Z"
   },
   {
    "duration": 4,
    "start_time": "2022-05-18T07:35:31.078Z"
   },
   {
    "duration": 14,
    "start_time": "2022-05-18T07:35:31.083Z"
   },
   {
    "duration": 30,
    "start_time": "2022-05-18T07:35:31.099Z"
   },
   {
    "duration": 5,
    "start_time": "2022-05-18T07:35:31.131Z"
   },
   {
    "duration": 10,
    "start_time": "2022-05-18T07:35:31.140Z"
   },
   {
    "duration": 8,
    "start_time": "2022-05-18T07:35:31.152Z"
   },
   {
    "duration": 8,
    "start_time": "2022-05-18T07:35:31.162Z"
   },
   {
    "duration": 9,
    "start_time": "2022-05-18T07:35:31.172Z"
   },
   {
    "duration": 11,
    "start_time": "2022-05-18T07:35:31.183Z"
   },
   {
    "duration": 14286,
    "start_time": "2022-05-18T07:35:31.196Z"
   },
   {
    "duration": 2189,
    "start_time": "2022-05-18T07:35:45.484Z"
   },
   {
    "duration": 2189,
    "start_time": "2022-05-18T07:35:47.675Z"
   },
   {
    "duration": 4,
    "start_time": "2022-05-18T07:35:49.865Z"
   },
   {
    "duration": 113757,
    "start_time": "2022-05-18T07:35:49.870Z"
   },
   {
    "duration": 360084,
    "start_time": "2022-05-18T07:37:43.629Z"
   },
   {
    "duration": 3,
    "start_time": "2022-05-18T07:43:43.723Z"
   },
   {
    "duration": 18,
    "start_time": "2022-05-18T07:43:43.727Z"
   },
   {
    "duration": 9,
    "start_time": "2022-05-18T07:43:43.746Z"
   },
   {
    "duration": 33,
    "start_time": "2022-05-18T07:43:43.757Z"
   },
   {
    "duration": 7,
    "start_time": "2022-05-18T07:43:43.792Z"
   },
   {
    "duration": 4,
    "start_time": "2022-05-18T07:43:43.801Z"
   },
   {
    "duration": 5,
    "start_time": "2022-05-18T07:43:43.807Z"
   },
   {
    "duration": 5,
    "start_time": "2022-05-18T07:43:43.814Z"
   },
   {
    "duration": 8,
    "start_time": "2022-05-18T07:43:43.820Z"
   },
   {
    "duration": 1337,
    "start_time": "2022-05-18T07:49:29.483Z"
   },
   {
    "duration": 886,
    "start_time": "2022-05-18T07:49:30.822Z"
   },
   {
    "duration": 8,
    "start_time": "2022-05-18T07:49:31.710Z"
   },
   {
    "duration": 34,
    "start_time": "2022-05-18T07:49:31.723Z"
   },
   {
    "duration": 10,
    "start_time": "2022-05-18T07:49:31.761Z"
   },
   {
    "duration": 58,
    "start_time": "2022-05-18T07:49:31.773Z"
   },
   {
    "duration": 280,
    "start_time": "2022-05-18T07:49:31.833Z"
   },
   {
    "duration": 21,
    "start_time": "2022-05-18T07:49:32.115Z"
   },
   {
    "duration": 11,
    "start_time": "2022-05-18T07:49:32.138Z"
   },
   {
    "duration": 21,
    "start_time": "2022-05-18T07:49:32.151Z"
   },
   {
    "duration": 6,
    "start_time": "2022-05-18T07:49:32.173Z"
   },
   {
    "duration": 7,
    "start_time": "2022-05-18T07:49:32.181Z"
   },
   {
    "duration": 7,
    "start_time": "2022-05-18T07:49:32.190Z"
   },
   {
    "duration": 3,
    "start_time": "2022-05-18T07:49:32.222Z"
   },
   {
    "duration": 7,
    "start_time": "2022-05-18T07:49:32.227Z"
   },
   {
    "duration": 7,
    "start_time": "2022-05-18T07:49:32.235Z"
   },
   {
    "duration": 4034,
    "start_time": "2022-05-18T07:49:32.243Z"
   },
   {
    "duration": 8,
    "start_time": "2022-05-18T07:49:36.279Z"
   },
   {
    "duration": 48744,
    "start_time": "2022-05-18T07:49:36.289Z"
   },
   {
    "duration": 10,
    "start_time": "2022-05-18T07:50:25.035Z"
   },
   {
    "duration": 1147844,
    "start_time": "2022-05-18T07:50:25.046Z"
   },
   {
    "duration": 11,
    "start_time": "2022-05-18T08:09:32.893Z"
   },
   {
    "duration": 102,
    "start_time": "2022-05-18T08:09:32.907Z"
   },
   {
    "duration": 5,
    "start_time": "2022-05-18T08:09:33.011Z"
   },
   {
    "duration": 9,
    "start_time": "2022-05-18T08:09:33.019Z"
   },
   {
    "duration": 56,
    "start_time": "2022-05-18T08:09:33.030Z"
   },
   {
    "duration": 4,
    "start_time": "2022-05-18T08:09:33.090Z"
   },
   {
    "duration": 13,
    "start_time": "2022-05-18T08:09:33.096Z"
   },
   {
    "duration": 14,
    "start_time": "2022-05-18T08:09:33.111Z"
   },
   {
    "duration": 6,
    "start_time": "2022-05-18T08:09:33.127Z"
   },
   {
    "duration": 10,
    "start_time": "2022-05-18T08:09:33.135Z"
   },
   {
    "duration": 9,
    "start_time": "2022-05-18T08:09:33.149Z"
   },
   {
    "duration": 4311,
    "start_time": "2022-05-18T08:09:33.160Z"
   },
   {
    "duration": 1329,
    "start_time": "2022-05-18T08:09:37.473Z"
   },
   {
    "duration": 1376,
    "start_time": "2022-05-18T08:09:38.804Z"
   },
   {
    "duration": 3,
    "start_time": "2022-05-18T08:09:40.181Z"
   },
   {
    "duration": 28740,
    "start_time": "2022-05-18T08:09:40.186Z"
   },
   {
    "duration": 76596,
    "start_time": "2022-05-18T08:10:08.928Z"
   },
   {
    "duration": 6,
    "start_time": "2022-05-18T08:11:25.529Z"
   },
   {
    "duration": 6,
    "start_time": "2022-05-18T08:11:25.624Z"
   },
   {
    "duration": 4,
    "start_time": "2022-05-18T08:11:25.634Z"
   },
   {
    "duration": 7,
    "start_time": "2022-05-18T08:11:25.639Z"
   },
   {
    "duration": 6,
    "start_time": "2022-05-18T08:11:25.647Z"
   },
   {
    "duration": 5,
    "start_time": "2022-05-18T08:11:25.654Z"
   },
   {
    "duration": 6,
    "start_time": "2022-05-18T08:11:25.660Z"
   },
   {
    "duration": 7,
    "start_time": "2022-05-18T08:11:25.667Z"
   },
   {
    "duration": 6,
    "start_time": "2022-05-18T08:11:25.675Z"
   },
   {
    "duration": 130,
    "start_time": "2022-05-18T08:26:11.979Z"
   },
   {
    "duration": 38,
    "start_time": "2022-05-18T08:27:38.130Z"
   },
   {
    "duration": 3,
    "start_time": "2022-05-18T08:30:29.066Z"
   },
   {
    "duration": 18,
    "start_time": "2022-05-18T08:35:00.428Z"
   },
   {
    "duration": 8,
    "start_time": "2022-05-18T08:35:20.890Z"
   },
   {
    "duration": 1539379,
    "start_time": "2022-05-18T08:35:30.018Z"
   },
   {
    "duration": 19025,
    "start_time": "2022-05-18T09:01:09.399Z"
   },
   {
    "duration": 25412,
    "start_time": "2022-05-18T09:41:46.824Z"
   },
   {
    "duration": 80704,
    "start_time": "2022-05-18T09:58:59.992Z"
   },
   {
    "duration": 15524,
    "start_time": "2022-05-18T10:01:26.062Z"
   },
   {
    "duration": 20472,
    "start_time": "2022-05-18T10:01:47.148Z"
   },
   {
    "duration": 61199,
    "start_time": "2022-05-18T10:02:42.277Z"
   },
   {
    "duration": 10686,
    "start_time": "2022-05-18T10:03:46.586Z"
   },
   {
    "duration": 13653,
    "start_time": "2022-05-18T10:04:00.845Z"
   },
   {
    "duration": 76090,
    "start_time": "2022-05-18T10:05:25.066Z"
   },
   {
    "duration": 15009,
    "start_time": "2022-05-18T10:06:59.690Z"
   },
   {
    "duration": 19703,
    "start_time": "2022-05-18T10:07:29.648Z"
   },
   {
    "duration": 82335,
    "start_time": "2022-05-18T10:11:53.104Z"
   },
   {
    "duration": 15967,
    "start_time": "2022-05-18T10:13:17.793Z"
   },
   {
    "duration": 21425,
    "start_time": "2022-05-18T10:13:36.526Z"
   },
   {
    "duration": 21,
    "start_time": "2022-05-18T10:15:18.823Z"
   },
   {
    "duration": 204182,
    "start_time": "2022-05-18T10:15:50.613Z"
   },
   {
    "duration": 27611,
    "start_time": "2022-05-18T10:21:58.247Z"
   },
   {
    "duration": 28492,
    "start_time": "2022-05-18T10:22:37.047Z"
   },
   {
    "duration": 148120,
    "start_time": "2022-05-18T10:23:24.780Z"
   },
   {
    "duration": 17122,
    "start_time": "2022-05-18T10:25:58.176Z"
   },
   {
    "duration": 20445,
    "start_time": "2022-05-18T10:26:19.420Z"
   },
   {
    "duration": 172916,
    "start_time": "2022-05-18T10:27:48.568Z"
   },
   {
    "duration": 4268,
    "start_time": "2022-05-18T10:32:00.962Z"
   },
   {
    "duration": 7180,
    "start_time": "2022-05-18T10:32:09.332Z"
   },
   {
    "duration": 177429,
    "start_time": "2022-05-18T10:36:11.468Z"
   },
   {
    "duration": 4864,
    "start_time": "2022-05-18T10:39:27.251Z"
   },
   {
    "duration": 8522,
    "start_time": "2022-05-18T10:39:37.539Z"
   },
   {
    "duration": 88165,
    "start_time": "2022-05-18T10:42:38.897Z"
   },
   {
    "duration": 61851,
    "start_time": "2022-05-18T10:44:45.852Z"
   },
   {
    "duration": 38735,
    "start_time": "2022-05-18T10:47:37.508Z"
   },
   {
    "duration": 119591,
    "start_time": "2022-05-18T10:49:40.658Z"
   },
   {
    "duration": 844536,
    "start_time": "2022-05-18T10:51:53.450Z"
   },
   {
    "duration": 20811,
    "start_time": "2022-05-18T11:06:25.079Z"
   },
   {
    "duration": 23476,
    "start_time": "2022-05-18T11:07:17.579Z"
   },
   {
    "duration": 4,
    "start_time": "2022-05-18T11:08:06.288Z"
   },
   {
    "duration": 260900,
    "start_time": "2022-05-18T11:09:10.678Z"
   },
   {
    "duration": 189989,
    "start_time": "2022-05-18T11:13:41.070Z"
   },
   {
    "duration": 858673,
    "start_time": "2022-05-18T11:20:28.875Z"
   },
   {
    "duration": 4,
    "start_time": "2022-05-18T11:46:04.952Z"
   },
   {
    "duration": 276622,
    "start_time": "2022-05-18T11:46:38.735Z"
   },
   {
    "duration": 200254,
    "start_time": "2022-05-18T11:54:06.704Z"
   },
   {
    "duration": 868934,
    "start_time": "2022-05-18T12:02:53.336Z"
   },
   {
    "duration": 3,
    "start_time": "2022-05-18T12:21:22.464Z"
   },
   {
    "duration": 22501,
    "start_time": "2022-05-18T12:21:27.502Z"
   },
   {
    "duration": 25539,
    "start_time": "2022-05-18T12:36:00.749Z"
   },
   {
    "duration": 3,
    "start_time": "2022-05-18T13:40:26.216Z"
   },
   {
    "duration": 3,
    "start_time": "2022-05-18T13:40:27.154Z"
   },
   {
    "duration": 157462,
    "start_time": "2022-05-18T13:40:28.474Z"
   },
   {
    "duration": 3066,
    "start_time": "2022-05-18T18:50:27.316Z"
   },
   {
    "duration": 3107,
    "start_time": "2022-05-18T18:50:30.384Z"
   },
   {
    "duration": 8,
    "start_time": "2022-05-18T18:50:33.492Z"
   },
   {
    "duration": 27,
    "start_time": "2022-05-18T18:50:33.502Z"
   },
   {
    "duration": 7,
    "start_time": "2022-05-18T18:50:33.530Z"
   },
   {
    "duration": 21,
    "start_time": "2022-05-18T18:50:33.539Z"
   },
   {
    "duration": 219,
    "start_time": "2022-05-18T18:50:33.561Z"
   },
   {
    "duration": 14,
    "start_time": "2022-05-18T18:50:33.782Z"
   },
   {
    "duration": 9,
    "start_time": "2022-05-18T18:50:33.797Z"
   },
   {
    "duration": 14,
    "start_time": "2022-05-18T18:50:33.808Z"
   },
   {
    "duration": 4,
    "start_time": "2022-05-18T18:50:33.824Z"
   },
   {
    "duration": 5,
    "start_time": "2022-05-18T18:50:33.830Z"
   },
   {
    "duration": 5,
    "start_time": "2022-05-18T18:50:33.836Z"
   },
   {
    "duration": 6,
    "start_time": "2022-05-18T18:50:33.843Z"
   },
   {
    "duration": 28,
    "start_time": "2022-05-18T18:50:33.850Z"
   },
   {
    "duration": 5,
    "start_time": "2022-05-18T18:50:33.879Z"
   },
   {
    "duration": 3964,
    "start_time": "2022-05-18T18:50:33.885Z"
   },
   {
    "duration": 6,
    "start_time": "2022-05-18T18:50:37.851Z"
   },
   {
    "duration": 50260,
    "start_time": "2022-05-18T18:50:37.859Z"
   },
   {
    "duration": 9,
    "start_time": "2022-05-18T18:51:28.121Z"
   },
   {
    "duration": 1105116,
    "start_time": "2022-05-18T18:51:28.132Z"
   },
   {
    "duration": 7,
    "start_time": "2022-05-18T19:09:53.250Z"
   },
   {
    "duration": 70,
    "start_time": "2022-05-18T19:09:53.259Z"
   },
   {
    "duration": 4,
    "start_time": "2022-05-18T19:09:53.330Z"
   },
   {
    "duration": 12,
    "start_time": "2022-05-18T19:09:53.335Z"
   },
   {
    "duration": 7,
    "start_time": "2022-05-18T19:09:53.349Z"
   },
   {
    "duration": 11,
    "start_time": "2022-05-18T19:09:53.358Z"
   },
   {
    "duration": 12,
    "start_time": "2022-05-18T19:09:53.378Z"
   },
   {
    "duration": 5119,
    "start_time": "2022-05-18T19:09:53.392Z"
   },
   {
    "duration": 127,
    "start_time": "2022-05-18T19:09:58.512Z"
   },
   {
    "duration": 0,
    "start_time": "2022-05-18T19:09:58.641Z"
   },
   {
    "duration": 0,
    "start_time": "2022-05-18T19:09:58.642Z"
   },
   {
    "duration": 0,
    "start_time": "2022-05-18T19:09:58.643Z"
   },
   {
    "duration": 0,
    "start_time": "2022-05-18T19:09:58.644Z"
   },
   {
    "duration": 0,
    "start_time": "2022-05-18T19:09:58.645Z"
   },
   {
    "duration": 0,
    "start_time": "2022-05-18T19:09:58.646Z"
   },
   {
    "duration": 0,
    "start_time": "2022-05-18T19:09:58.647Z"
   },
   {
    "duration": 0,
    "start_time": "2022-05-18T19:09:58.648Z"
   },
   {
    "duration": 0,
    "start_time": "2022-05-18T19:09:58.648Z"
   },
   {
    "duration": 0,
    "start_time": "2022-05-18T19:09:58.649Z"
   },
   {
    "duration": 0,
    "start_time": "2022-05-18T19:09:58.650Z"
   },
   {
    "duration": 0,
    "start_time": "2022-05-18T19:09:58.651Z"
   },
   {
    "duration": 0,
    "start_time": "2022-05-18T19:09:58.652Z"
   },
   {
    "duration": 0,
    "start_time": "2022-05-18T19:09:58.653Z"
   },
   {
    "duration": 15,
    "start_time": "2022-05-18T19:11:20.865Z"
   },
   {
    "duration": 2,
    "start_time": "2022-05-18T19:11:21.760Z"
   },
   {
    "duration": 2,
    "start_time": "2022-05-18T19:11:22.664Z"
   },
   {
    "duration": 2,
    "start_time": "2022-05-18T19:11:24.920Z"
   },
   {
    "duration": 3,
    "start_time": "2022-05-18T19:12:19.443Z"
   },
   {
    "duration": 3,
    "start_time": "2022-05-18T19:12:20.538Z"
   },
   {
    "duration": 3,
    "start_time": "2022-05-18T19:12:21.744Z"
   },
   {
    "duration": 111,
    "start_time": "2022-05-18T19:12:22.825Z"
   },
   {
    "duration": 286560,
    "start_time": "2022-05-18T19:13:03.156Z"
   },
   {
    "duration": 4,
    "start_time": "2022-05-18T19:28:01.630Z"
   },
   {
    "duration": 3,
    "start_time": "2022-05-18T19:28:03.629Z"
   },
   {
    "duration": 2,
    "start_time": "2022-05-18T19:28:04.476Z"
   },
   {
    "duration": 2,
    "start_time": "2022-05-18T19:28:05.413Z"
   },
   {
    "duration": 293476,
    "start_time": "2022-05-18T19:28:06.188Z"
   },
   {
    "duration": 42,
    "start_time": "2022-05-18T19:57:25.451Z"
   },
   {
    "duration": 40,
    "start_time": "2022-05-18T19:59:56.736Z"
   },
   {
    "duration": 38,
    "start_time": "2022-05-18T20:03:24.129Z"
   },
   {
    "duration": 600372,
    "start_time": "2022-05-18T20:05:59.806Z"
   },
   {
    "duration": 0,
    "start_time": "2022-05-18T20:16:00.180Z"
   },
   {
    "duration": 562967,
    "start_time": "2022-05-18T20:16:21.374Z"
   },
   {
    "duration": 6,
    "start_time": "2022-05-18T20:25:49.800Z"
   },
   {
    "duration": 2,
    "start_time": "2022-05-18T20:27:30.378Z"
   },
   {
    "duration": 10,
    "start_time": "2022-05-18T20:27:39.370Z"
   },
   {
    "duration": 139776,
    "start_time": "2022-05-18T20:27:54.159Z"
   },
   {
    "duration": 743,
    "start_time": "2022-05-18T20:39:30.253Z"
   },
   {
    "duration": 1619652,
    "start_time": "2022-05-18T20:46:15.370Z"
   },
   {
    "duration": 4,
    "start_time": "2022-05-18T21:36:48.770Z"
   },
   {
    "duration": 3,
    "start_time": "2022-05-18T21:38:15.468Z"
   },
   {
    "duration": 3,
    "start_time": "2022-05-18T21:38:52.216Z"
   },
   {
    "duration": 3,
    "start_time": "2022-05-18T21:39:01.020Z"
   },
   {
    "duration": 3,
    "start_time": "2022-05-18T21:39:44.133Z"
   },
   {
    "duration": 285628,
    "start_time": "2022-05-18T21:39:52.195Z"
   },
   {
    "duration": 2872,
    "start_time": "2022-05-19T04:46:51.214Z"
   },
   {
    "duration": 2700,
    "start_time": "2022-05-19T04:46:54.088Z"
   },
   {
    "duration": 9,
    "start_time": "2022-05-19T04:46:56.790Z"
   },
   {
    "duration": 35,
    "start_time": "2022-05-19T04:46:56.801Z"
   },
   {
    "duration": 9,
    "start_time": "2022-05-19T04:46:56.838Z"
   },
   {
    "duration": 30,
    "start_time": "2022-05-19T04:46:56.849Z"
   },
   {
    "duration": 262,
    "start_time": "2022-05-19T04:46:56.881Z"
   },
   {
    "duration": 28,
    "start_time": "2022-05-19T04:46:57.145Z"
   },
   {
    "duration": 14,
    "start_time": "2022-05-19T04:46:57.175Z"
   },
   {
    "duration": 24,
    "start_time": "2022-05-19T04:46:57.191Z"
   },
   {
    "duration": 9,
    "start_time": "2022-05-19T04:46:57.218Z"
   },
   {
    "duration": 4,
    "start_time": "2022-05-19T04:46:57.229Z"
   },
   {
    "duration": 3,
    "start_time": "2022-05-19T04:46:57.266Z"
   },
   {
    "duration": 3,
    "start_time": "2022-05-19T04:46:57.274Z"
   },
   {
    "duration": 9,
    "start_time": "2022-05-19T04:46:57.279Z"
   },
   {
    "duration": 10,
    "start_time": "2022-05-19T04:46:57.290Z"
   },
   {
    "duration": 4322,
    "start_time": "2022-05-19T04:46:57.302Z"
   },
   {
    "duration": 8,
    "start_time": "2022-05-19T04:47:01.626Z"
   },
   {
    "duration": 51297,
    "start_time": "2022-05-19T04:47:01.635Z"
   },
   {
    "duration": 9,
    "start_time": "2022-05-19T04:47:52.934Z"
   },
   {
    "duration": 1151365,
    "start_time": "2022-05-19T04:47:52.945Z"
   },
   {
    "duration": 7,
    "start_time": "2022-05-19T05:07:04.312Z"
   },
   {
    "duration": 85,
    "start_time": "2022-05-19T05:07:04.321Z"
   },
   {
    "duration": 3,
    "start_time": "2022-05-19T05:07:04.408Z"
   },
   {
    "duration": 8,
    "start_time": "2022-05-19T05:07:04.413Z"
   },
   {
    "duration": 9,
    "start_time": "2022-05-19T05:07:04.422Z"
   },
   {
    "duration": 5,
    "start_time": "2022-05-19T05:07:04.433Z"
   },
   {
    "duration": 25,
    "start_time": "2022-05-19T05:07:04.440Z"
   },
   {
    "duration": 11,
    "start_time": "2022-05-19T05:07:04.466Z"
   },
   {
    "duration": 9,
    "start_time": "2022-05-19T05:07:04.479Z"
   },
   {
    "duration": 9,
    "start_time": "2022-05-19T05:07:04.490Z"
   },
   {
    "duration": 8,
    "start_time": "2022-05-19T05:07:04.501Z"
   },
   {
    "duration": 5,
    "start_time": "2022-05-19T05:07:04.511Z"
   },
   {
    "duration": 7,
    "start_time": "2022-05-19T05:07:04.518Z"
   },
   {
    "duration": 6,
    "start_time": "2022-05-19T05:07:04.527Z"
   },
   {
    "duration": 240697,
    "start_time": "2022-05-19T05:07:04.535Z"
   },
   {
    "duration": 614967,
    "start_time": "2022-05-19T05:11:05.233Z"
   },
   {
    "duration": 4,
    "start_time": "2022-05-19T05:21:20.201Z"
   },
   {
    "duration": 6,
    "start_time": "2022-05-19T05:21:20.206Z"
   },
   {
    "duration": 142641,
    "start_time": "2022-05-19T05:21:20.213Z"
   },
   {
    "duration": 1998673,
    "start_time": "2022-05-19T05:23:42.864Z"
   },
   {
    "duration": 5,
    "start_time": "2022-05-19T05:57:01.539Z"
   },
   {
    "duration": 21,
    "start_time": "2022-05-19T05:57:01.545Z"
   },
   {
    "duration": 345472,
    "start_time": "2022-05-19T05:57:01.568Z"
   },
   {
    "duration": 3,
    "start_time": "2022-05-19T06:02:47.041Z"
   },
   {
    "duration": 9,
    "start_time": "2022-05-19T06:02:47.045Z"
   },
   {
    "duration": 726,
    "start_time": "2022-05-19T08:29:57.041Z"
   },
   {
    "duration": 136,
    "start_time": "2022-05-19T08:42:57.037Z"
   },
   {
    "duration": 0,
    "start_time": "2022-05-19T09:27:05.657Z"
   },
   {
    "duration": 10,
    "start_time": "2022-05-19T09:28:48.519Z"
   },
   {
    "duration": 3,
    "start_time": "2022-05-19T09:30:16.477Z"
   },
   {
    "duration": 16641,
    "start_time": "2022-05-19T09:30:24.868Z"
   },
   {
    "duration": 4,
    "start_time": "2022-05-19T09:30:51.186Z"
   },
   {
    "duration": 25145,
    "start_time": "2022-05-19T09:30:52.062Z"
   },
   {
    "duration": 66,
    "start_time": "2022-05-19T09:32:59.538Z"
   },
   {
    "duration": 3,
    "start_time": "2022-05-19T09:33:16.556Z"
   },
   {
    "duration": 24844,
    "start_time": "2022-05-19T09:33:17.592Z"
   },
   {
    "duration": 24667,
    "start_time": "2022-05-19T09:34:03.592Z"
   },
   {
    "duration": 5,
    "start_time": "2022-05-19T09:34:56.954Z"
   },
   {
    "duration": 330008,
    "start_time": "2022-05-19T09:34:57.958Z"
   },
   {
    "duration": 4,
    "start_time": "2022-05-19T09:40:38.844Z"
   },
   {
    "duration": 3,
    "start_time": "2022-05-19T09:40:42.856Z"
   },
   {
    "duration": 231560,
    "start_time": "2022-05-19T09:40:43.846Z"
   },
   {
    "duration": 6,
    "start_time": "2022-05-19T09:45:08.862Z"
   },
   {
    "duration": 27011,
    "start_time": "2022-05-19T09:45:15.335Z"
   },
   {
    "duration": 7,
    "start_time": "2022-05-19T09:46:12.945Z"
   },
   {
    "duration": 27064,
    "start_time": "2022-05-19T09:46:13.785Z"
   },
   {
    "duration": 7,
    "start_time": "2022-05-19T09:46:55.894Z"
   },
   {
    "duration": 27006,
    "start_time": "2022-05-19T09:46:56.590Z"
   },
   {
    "duration": 6,
    "start_time": "2022-05-19T09:49:56.962Z"
   },
   {
    "duration": 27149,
    "start_time": "2022-05-19T09:49:57.766Z"
   },
   {
    "duration": 5,
    "start_time": "2022-05-19T09:50:47.471Z"
   },
   {
    "duration": 237797,
    "start_time": "2022-05-19T09:50:48.362Z"
   },
   {
    "duration": 4,
    "start_time": "2022-05-19T09:55:30.459Z"
   },
   {
    "duration": 0,
    "start_time": "2022-05-19T09:56:05.715Z"
   },
   {
    "duration": 0,
    "start_time": "2022-05-19T09:56:05.716Z"
   },
   {
    "duration": 3,
    "start_time": "2022-05-19T09:56:16.094Z"
   },
   {
    "duration": 227360,
    "start_time": "2022-05-19T10:00:06.938Z"
   },
   {
    "duration": 4,
    "start_time": "2022-05-19T10:04:13.976Z"
   },
   {
    "duration": 10,
    "start_time": "2022-05-19T10:06:50.504Z"
   },
   {
    "duration": 12,
    "start_time": "2022-05-19T10:11:44.580Z"
   },
   {
    "duration": 9,
    "start_time": "2022-05-19T10:17:39.926Z"
   },
   {
    "duration": 227734,
    "start_time": "2022-05-19T10:17:42.804Z"
   },
   {
    "duration": 4,
    "start_time": "2022-05-19T10:21:44.850Z"
   },
   {
    "duration": 3,
    "start_time": "2022-05-19T10:22:38.053Z"
   },
   {
    "duration": 253488,
    "start_time": "2022-05-19T10:30:26.463Z"
   },
   {
    "duration": 3,
    "start_time": "2022-05-19T10:34:52.523Z"
   },
   {
    "duration": 3,
    "start_time": "2022-05-19T10:37:15.487Z"
   },
   {
    "duration": 256079,
    "start_time": "2022-05-19T10:37:16.677Z"
   },
   {
    "duration": 4,
    "start_time": "2022-05-19T10:41:41.076Z"
   },
   {
    "duration": 3,
    "start_time": "2022-05-19T10:42:08.556Z"
   },
   {
    "duration": 216705,
    "start_time": "2022-05-19T10:42:09.428Z"
   },
   {
    "duration": 4,
    "start_time": "2022-05-19T10:45:51.716Z"
   },
   {
    "duration": 4,
    "start_time": "2022-05-19T10:46:09.501Z"
   },
   {
    "duration": 215338,
    "start_time": "2022-05-19T10:46:09.507Z"
   },
   {
    "duration": 4,
    "start_time": "2022-05-19T10:49:58.129Z"
   },
   {
    "duration": 4,
    "start_time": "2022-05-19T10:51:47.093Z"
   },
   {
    "duration": 587424,
    "start_time": "2022-05-19T10:51:51.460Z"
   },
   {
    "duration": 5,
    "start_time": "2022-05-19T11:01:45.949Z"
   },
   {
    "duration": 547,
    "start_time": "2022-05-19T11:13:02.860Z"
   },
   {
    "duration": 11,
    "start_time": "2022-05-19T11:13:49.020Z"
   },
   {
    "duration": 3,
    "start_time": "2022-05-19T11:15:00.864Z"
   },
   {
    "duration": 39635,
    "start_time": "2022-05-19T11:15:01.770Z"
   },
   {
    "duration": 4,
    "start_time": "2022-05-19T11:15:42.926Z"
   },
   {
    "duration": 860948,
    "start_time": "2022-05-19T11:15:43.966Z"
   },
   {
    "duration": 4,
    "start_time": "2022-05-19T11:32:49.456Z"
   },
   {
    "duration": 35,
    "start_time": "2022-05-19T11:38:14.913Z"
   },
   {
    "duration": 9,
    "start_time": "2022-05-19T11:38:53.834Z"
   },
   {
    "duration": 38,
    "start_time": "2022-05-19T11:39:03.725Z"
   },
   {
    "duration": 35,
    "start_time": "2022-05-19T11:40:57.665Z"
   },
   {
    "duration": 2982701,
    "start_time": "2022-05-19T11:41:41.587Z"
   },
   {
    "duration": 1818,
    "start_time": "2022-05-19T12:32:40.537Z"
   },
   {
    "duration": 929,
    "start_time": "2022-05-19T12:32:42.358Z"
   },
   {
    "duration": 8,
    "start_time": "2022-05-19T12:32:43.289Z"
   },
   {
    "duration": 35,
    "start_time": "2022-05-19T12:32:43.300Z"
   },
   {
    "duration": 33,
    "start_time": "2022-05-19T12:32:43.337Z"
   },
   {
    "duration": 29,
    "start_time": "2022-05-19T12:32:43.372Z"
   },
   {
    "duration": 262,
    "start_time": "2022-05-19T12:32:43.403Z"
   },
   {
    "duration": 18,
    "start_time": "2022-05-19T12:32:43.667Z"
   },
   {
    "duration": 13,
    "start_time": "2022-05-19T12:32:43.687Z"
   },
   {
    "duration": 23,
    "start_time": "2022-05-19T12:32:43.704Z"
   },
   {
    "duration": 36,
    "start_time": "2022-05-19T12:32:43.729Z"
   },
   {
    "duration": 3,
    "start_time": "2022-05-19T12:32:43.767Z"
   },
   {
    "duration": 7,
    "start_time": "2022-05-19T12:32:43.771Z"
   },
   {
    "duration": 6,
    "start_time": "2022-05-19T12:32:43.780Z"
   },
   {
    "duration": 6,
    "start_time": "2022-05-19T12:32:43.788Z"
   },
   {
    "duration": 5,
    "start_time": "2022-05-19T12:32:43.796Z"
   },
   {
    "duration": 4214,
    "start_time": "2022-05-19T12:32:43.803Z"
   },
   {
    "duration": 8,
    "start_time": "2022-05-19T12:32:48.018Z"
   },
   {
    "duration": 50163,
    "start_time": "2022-05-19T12:32:48.027Z"
   },
   {
    "duration": 11,
    "start_time": "2022-05-19T12:33:38.192Z"
   },
   {
    "duration": 1142123,
    "start_time": "2022-05-19T12:33:38.205Z"
   },
   {
    "duration": 10,
    "start_time": "2022-05-19T12:52:40.331Z"
   },
   {
    "duration": 90,
    "start_time": "2022-05-19T12:52:40.343Z"
   },
   {
    "duration": 4,
    "start_time": "2022-05-19T12:52:40.436Z"
   },
   {
    "duration": 7,
    "start_time": "2022-05-19T12:52:40.442Z"
   },
   {
    "duration": 17,
    "start_time": "2022-05-19T12:52:40.451Z"
   },
   {
    "duration": 13,
    "start_time": "2022-05-19T12:52:40.470Z"
   },
   {
    "duration": 3,
    "start_time": "2022-05-19T12:52:40.488Z"
   },
   {
    "duration": 7,
    "start_time": "2022-05-19T12:52:40.492Z"
   },
   {
    "duration": 4,
    "start_time": "2022-05-19T12:52:40.501Z"
   },
   {
    "duration": 5,
    "start_time": "2022-05-19T12:52:40.507Z"
   },
   {
    "duration": 5,
    "start_time": "2022-05-19T12:52:40.514Z"
   },
   {
    "duration": 5,
    "start_time": "2022-05-19T12:52:40.520Z"
   },
   {
    "duration": 4,
    "start_time": "2022-05-19T12:52:40.527Z"
   },
   {
    "duration": 33,
    "start_time": "2022-05-19T12:52:40.533Z"
   },
   {
    "duration": 254148,
    "start_time": "2022-05-19T12:52:40.568Z"
   },
   {
    "duration": 661290,
    "start_time": "2022-05-19T12:56:54.718Z"
   },
   {
    "duration": 3,
    "start_time": "2022-05-19T13:07:56.010Z"
   },
   {
    "duration": 6,
    "start_time": "2022-05-19T13:07:56.015Z"
   },
   {
    "duration": 155313,
    "start_time": "2022-05-19T13:07:56.023Z"
   },
   {
    "duration": 2153546,
    "start_time": "2022-05-19T13:10:31.338Z"
   },
   {
    "duration": 4,
    "start_time": "2022-05-19T13:46:24.886Z"
   },
   {
    "duration": 11,
    "start_time": "2022-05-19T13:46:24.892Z"
   },
   {
    "duration": 415923,
    "start_time": "2022-05-19T13:46:24.905Z"
   },
   {
    "duration": 2,
    "start_time": "2022-05-19T13:53:20.830Z"
   },
   {
    "duration": 16,
    "start_time": "2022-05-19T13:53:20.834Z"
   },
   {
    "duration": 27,
    "start_time": "2022-05-19T13:53:20.852Z"
   },
   {
    "duration": 16,
    "start_time": "2022-05-19T13:53:20.881Z"
   },
   {
    "duration": 22,
    "start_time": "2022-05-19T13:53:20.899Z"
   },
   {
    "duration": 23,
    "start_time": "2022-05-19T13:53:20.922Z"
   },
   {
    "duration": 1678,
    "start_time": "2022-05-19T14:48:42.503Z"
   },
   {
    "duration": 906,
    "start_time": "2022-05-19T14:48:44.184Z"
   },
   {
    "duration": 8,
    "start_time": "2022-05-19T14:48:45.092Z"
   },
   {
    "duration": 43,
    "start_time": "2022-05-19T14:48:45.102Z"
   },
   {
    "duration": 22,
    "start_time": "2022-05-19T14:48:45.147Z"
   },
   {
    "duration": 28,
    "start_time": "2022-05-19T14:48:45.171Z"
   },
   {
    "duration": 253,
    "start_time": "2022-05-19T14:48:45.201Z"
   },
   {
    "duration": 20,
    "start_time": "2022-05-19T14:48:45.457Z"
   },
   {
    "duration": 19,
    "start_time": "2022-05-19T14:48:45.478Z"
   },
   {
    "duration": 18,
    "start_time": "2022-05-19T14:48:45.501Z"
   },
   {
    "duration": 6,
    "start_time": "2022-05-19T14:48:45.521Z"
   },
   {
    "duration": 37,
    "start_time": "2022-05-19T14:48:45.529Z"
   },
   {
    "duration": 6,
    "start_time": "2022-05-19T14:48:45.568Z"
   },
   {
    "duration": 6,
    "start_time": "2022-05-19T14:48:45.575Z"
   },
   {
    "duration": 9,
    "start_time": "2022-05-19T14:48:45.583Z"
   },
   {
    "duration": 6,
    "start_time": "2022-05-19T14:48:45.594Z"
   },
   {
    "duration": 4204,
    "start_time": "2022-05-19T14:48:45.602Z"
   },
   {
    "duration": 8,
    "start_time": "2022-05-19T14:48:49.808Z"
   },
   {
    "duration": 49827,
    "start_time": "2022-05-19T14:48:49.818Z"
   },
   {
    "duration": 9,
    "start_time": "2022-05-19T14:49:39.647Z"
   },
   {
    "duration": 1147347,
    "start_time": "2022-05-19T14:49:39.664Z"
   },
   {
    "duration": 8,
    "start_time": "2022-05-19T15:08:47.013Z"
   },
   {
    "duration": 92,
    "start_time": "2022-05-19T15:08:47.023Z"
   },
   {
    "duration": 4,
    "start_time": "2022-05-19T15:08:47.118Z"
   },
   {
    "duration": 17,
    "start_time": "2022-05-19T15:08:47.123Z"
   },
   {
    "duration": 13,
    "start_time": "2022-05-19T15:08:47.142Z"
   },
   {
    "duration": 11,
    "start_time": "2022-05-19T15:08:47.157Z"
   },
   {
    "duration": 5,
    "start_time": "2022-05-19T15:08:47.173Z"
   },
   {
    "duration": 13,
    "start_time": "2022-05-19T15:08:47.179Z"
   },
   {
    "duration": 10,
    "start_time": "2022-05-19T15:08:47.194Z"
   },
   {
    "duration": 17,
    "start_time": "2022-05-19T15:08:47.206Z"
   },
   {
    "duration": 12,
    "start_time": "2022-05-19T15:08:47.225Z"
   },
   {
    "duration": 14,
    "start_time": "2022-05-19T15:08:47.239Z"
   },
   {
    "duration": 21,
    "start_time": "2022-05-19T15:08:47.255Z"
   },
   {
    "duration": 26,
    "start_time": "2022-05-19T15:08:47.278Z"
   },
   {
    "duration": 283652,
    "start_time": "2022-05-19T15:08:47.305Z"
   },
   {
    "duration": 662863,
    "start_time": "2022-05-19T15:13:30.959Z"
   },
   {
    "duration": 4,
    "start_time": "2022-05-19T15:24:33.824Z"
   },
   {
    "duration": 14,
    "start_time": "2022-05-19T15:24:33.830Z"
   },
   {
    "duration": 159407,
    "start_time": "2022-05-19T15:24:33.845Z"
   },
   {
    "duration": 883244,
    "start_time": "2022-05-19T15:27:13.254Z"
   },
   {
    "duration": 4,
    "start_time": "2022-05-19T15:41:56.500Z"
   },
   {
    "duration": 9,
    "start_time": "2022-05-19T15:41:56.506Z"
   },
   {
    "duration": 370995,
    "start_time": "2022-05-19T15:41:56.516Z"
   },
   {
    "duration": 3,
    "start_time": "2022-05-19T15:48:07.513Z"
   },
   {
    "duration": 10,
    "start_time": "2022-05-19T15:48:07.517Z"
   },
   {
    "duration": 16,
    "start_time": "2022-05-19T15:48:07.529Z"
   },
   {
    "duration": 9,
    "start_time": "2022-05-19T15:48:07.547Z"
   },
   {
    "duration": 5,
    "start_time": "2022-05-19T15:48:07.557Z"
   },
   {
    "duration": 17,
    "start_time": "2022-05-19T15:48:07.563Z"
   },
   {
    "duration": 4232701,
    "start_time": "2022-05-19T15:48:07.583Z"
   },
   {
    "duration": 4,
    "start_time": "2022-05-19T16:58:40.286Z"
   },
   {
    "duration": 9,
    "start_time": "2022-05-19T16:58:40.292Z"
   },
   {
    "duration": 522032,
    "start_time": "2022-05-19T16:58:40.303Z"
   },
   {
    "duration": 0,
    "start_time": "2022-05-19T17:07:22.337Z"
   },
   {
    "duration": 0,
    "start_time": "2022-05-19T17:07:22.339Z"
   },
   {
    "duration": 4,
    "start_time": "2022-05-19T17:08:44.191Z"
   },
   {
    "duration": 8403,
    "start_time": "2022-05-19T17:36:57.100Z"
   },
   {
    "duration": 10,
    "start_time": "2022-05-19T17:37:17.333Z"
   },
   {
    "duration": 51885,
    "start_time": "2022-05-19T17:37:27.082Z"
   },
   {
    "duration": 12,
    "start_time": "2022-05-19T17:38:30.730Z"
   },
   {
    "duration": 8,
    "start_time": "2022-05-19T17:38:47.341Z"
   },
   {
    "duration": 244,
    "start_time": "2022-05-19T17:41:18.583Z"
   },
   {
    "duration": 18,
    "start_time": "2022-05-19T17:42:04.175Z"
   },
   {
    "duration": 3,
    "start_time": "2022-05-19T17:52:48.196Z"
   },
   {
    "duration": 2,
    "start_time": "2022-05-19T17:52:49.770Z"
   },
   {
    "duration": 2,
    "start_time": "2022-05-19T17:52:50.346Z"
   },
   {
    "duration": 94848,
    "start_time": "2022-05-19T17:52:50.934Z"
   },
   {
    "duration": 7115,
    "start_time": "2022-05-19T17:54:45.561Z"
   },
   {
    "duration": 14317,
    "start_time": "2022-05-19T17:54:55.175Z"
   },
   {
    "duration": 6,
    "start_time": "2022-05-19T17:55:11.047Z"
   },
   {
    "duration": 15,
    "start_time": "2022-05-19T17:55:12.848Z"
   },
   {
    "duration": 3,
    "start_time": "2022-05-19T17:56:30.282Z"
   },
   {
    "duration": 3,
    "start_time": "2022-05-19T17:56:31.038Z"
   },
   {
    "duration": 2,
    "start_time": "2022-05-19T17:56:31.660Z"
   },
   {
    "duration": 72563,
    "start_time": "2022-05-19T17:56:32.274Z"
   },
   {
    "duration": 3,
    "start_time": "2022-05-19T17:58:11.504Z"
   },
   {
    "duration": 3,
    "start_time": "2022-05-19T17:58:12.311Z"
   },
   {
    "duration": 4,
    "start_time": "2022-05-19T17:58:12.925Z"
   },
   {
    "duration": 240446,
    "start_time": "2022-05-19T17:58:13.574Z"
   },
   {
    "duration": 3,
    "start_time": "2022-05-19T18:02:16.947Z"
   },
   {
    "duration": 3,
    "start_time": "2022-05-19T18:02:17.473Z"
   },
   {
    "duration": 3,
    "start_time": "2022-05-19T18:02:17.989Z"
   },
   {
    "duration": 255444,
    "start_time": "2022-05-19T18:02:18.543Z"
   },
   {
    "duration": 7530,
    "start_time": "2022-05-19T18:08:02.284Z"
   },
   {
    "duration": 49515,
    "start_time": "2022-05-19T18:08:12.553Z"
   },
   {
    "duration": 7,
    "start_time": "2022-05-19T18:09:04.233Z"
   },
   {
    "duration": 14,
    "start_time": "2022-05-19T18:09:05.818Z"
   },
   {
    "duration": 42,
    "start_time": "2022-05-19T18:34:27.652Z"
   },
   {
    "duration": 48,
    "start_time": "2022-05-19T18:35:27.783Z"
   },
   {
    "duration": 31,
    "start_time": "2022-05-19T18:35:51.286Z"
   },
   {
    "duration": 848439,
    "start_time": "2022-05-19T18:37:56.052Z"
   },
   {
    "duration": 2,
    "start_time": "2022-05-19T18:53:39.846Z"
   },
   {
    "duration": 3,
    "start_time": "2022-05-19T18:53:42.527Z"
   },
   {
    "duration": 3,
    "start_time": "2022-05-19T18:53:43.294Z"
   },
   {
    "duration": 295428,
    "start_time": "2022-05-19T18:53:43.924Z"
   },
   {
    "duration": 8403,
    "start_time": "2022-05-19T18:59:06.650Z"
   },
   {
    "duration": 56789,
    "start_time": "2022-05-19T18:59:16.091Z"
   },
   {
    "duration": 8,
    "start_time": "2022-05-19T19:00:15.445Z"
   },
   {
    "duration": 14,
    "start_time": "2022-05-19T19:00:18.210Z"
   },
   {
    "duration": 1055,
    "start_time": "2022-05-19T19:02:35.101Z"
   },
   {
    "duration": 2,
    "start_time": "2022-05-19T19:04:28.459Z"
   },
   {
    "duration": 7344,
    "start_time": "2022-05-19T19:04:35.081Z"
   },
   {
    "duration": 3,
    "start_time": "2022-05-19T19:04:56.477Z"
   },
   {
    "duration": 46792,
    "start_time": "2022-05-19T19:04:56.986Z"
   },
   {
    "duration": 5,
    "start_time": "2022-05-19T19:06:40.721Z"
   },
   {
    "duration": 19,
    "start_time": "2022-05-19T19:12:23.661Z"
   },
   {
    "duration": 3,
    "start_time": "2022-05-19T19:13:05.213Z"
   },
   {
    "duration": 72305,
    "start_time": "2022-05-19T19:13:07.440Z"
   },
   {
    "duration": 9,
    "start_time": "2022-05-19T19:14:32.742Z"
   },
   {
    "duration": 3,
    "start_time": "2022-05-19T19:14:40.519Z"
   },
   {
    "duration": 79690,
    "start_time": "2022-05-19T19:14:41.749Z"
   },
   {
    "duration": 4,
    "start_time": "2022-05-19T19:16:01.441Z"
   },
   {
    "duration": 3,
    "start_time": "2022-05-19T19:16:09.465Z"
   },
   {
    "duration": 61457,
    "start_time": "2022-05-19T19:16:10.051Z"
   },
   {
    "duration": 4,
    "start_time": "2022-05-19T19:17:11.510Z"
   },
   {
    "duration": 4686,
    "start_time": "2022-05-19T19:17:33.571Z"
   },
   {
    "duration": 10,
    "start_time": "2022-05-19T19:17:42.742Z"
   },
   {
    "duration": 21,
    "start_time": "2022-05-19T19:17:44.750Z"
   },
   {
    "duration": 3,
    "start_time": "2022-05-19T19:38:19.717Z"
   },
   {
    "duration": 3,
    "start_time": "2022-05-19T19:38:27.849Z"
   },
   {
    "duration": 95405,
    "start_time": "2022-05-19T19:38:29.263Z"
   },
   {
    "duration": 4,
    "start_time": "2022-05-19T19:40:07.176Z"
   },
   {
    "duration": 274958,
    "start_time": "2022-05-19T19:40:07.756Z"
   },
   {
    "duration": 4,
    "start_time": "2022-05-19T19:45:46.609Z"
   },
   {
    "duration": 53841,
    "start_time": "2022-05-19T19:45:47.306Z"
   },
   {
    "duration": 4,
    "start_time": "2022-05-19T20:35:21.189Z"
   },
   {
    "duration": 12,
    "start_time": "2022-05-19T20:36:19.932Z"
   },
   {
    "duration": 3,
    "start_time": "2022-05-19T20:36:38.250Z"
   },
   {
    "duration": 11,
    "start_time": "2022-05-19T20:36:39.956Z"
   },
   {
    "duration": 27,
    "start_time": "2022-05-19T20:40:41.704Z"
   },
   {
    "duration": 4109,
    "start_time": "2022-05-19T20:46:03.503Z"
   },
   {
    "duration": 7361,
    "start_time": "2022-05-19T20:48:22.048Z"
   },
   {
    "duration": 3492,
    "start_time": "2022-05-19T20:48:37.841Z"
   },
   {
    "duration": 6,
    "start_time": "2022-05-19T20:48:45.088Z"
   },
   {
    "duration": 14,
    "start_time": "2022-05-19T20:48:46.493Z"
   },
   {
    "duration": 2195,
    "start_time": "2022-05-19T21:02:29.438Z"
   },
   {
    "duration": 2447,
    "start_time": "2022-05-19T21:02:31.635Z"
   },
   {
    "duration": 8,
    "start_time": "2022-05-19T21:02:34.084Z"
   },
   {
    "duration": 35,
    "start_time": "2022-05-19T21:02:34.094Z"
   },
   {
    "duration": 8,
    "start_time": "2022-05-19T21:02:34.131Z"
   },
   {
    "duration": 45,
    "start_time": "2022-05-19T21:02:34.141Z"
   },
   {
    "duration": 253,
    "start_time": "2022-05-19T21:02:34.188Z"
   },
   {
    "duration": 24,
    "start_time": "2022-05-19T21:02:34.443Z"
   },
   {
    "duration": 11,
    "start_time": "2022-05-19T21:02:34.469Z"
   },
   {
    "duration": 18,
    "start_time": "2022-05-19T21:02:34.483Z"
   },
   {
    "duration": 6,
    "start_time": "2022-05-19T21:02:34.503Z"
   },
   {
    "duration": 4,
    "start_time": "2022-05-19T21:02:34.511Z"
   },
   {
    "duration": 6,
    "start_time": "2022-05-19T21:02:34.516Z"
   },
   {
    "duration": 6,
    "start_time": "2022-05-19T21:02:34.523Z"
   },
   {
    "duration": 38,
    "start_time": "2022-05-19T21:02:34.530Z"
   },
   {
    "duration": 5,
    "start_time": "2022-05-19T21:02:34.570Z"
   },
   {
    "duration": 4091,
    "start_time": "2022-05-19T21:02:34.577Z"
   },
   {
    "duration": 7,
    "start_time": "2022-05-19T21:02:38.670Z"
   },
   {
    "duration": 50453,
    "start_time": "2022-05-19T21:02:38.679Z"
   },
   {
    "duration": 11,
    "start_time": "2022-05-19T21:03:29.134Z"
   },
   {
    "duration": 1163019,
    "start_time": "2022-05-19T21:03:29.146Z"
   },
   {
    "duration": 8,
    "start_time": "2022-05-19T21:22:52.167Z"
   },
   {
    "duration": 75,
    "start_time": "2022-05-19T21:22:52.177Z"
   },
   {
    "duration": 4,
    "start_time": "2022-05-19T21:22:52.265Z"
   },
   {
    "duration": 16,
    "start_time": "2022-05-19T21:22:52.270Z"
   },
   {
    "duration": 6,
    "start_time": "2022-05-19T21:22:52.288Z"
   },
   {
    "duration": 5,
    "start_time": "2022-05-19T21:22:52.296Z"
   },
   {
    "duration": 3,
    "start_time": "2022-05-19T21:22:52.304Z"
   },
   {
    "duration": 5,
    "start_time": "2022-05-19T21:22:52.308Z"
   },
   {
    "duration": 9,
    "start_time": "2022-05-19T21:22:52.314Z"
   },
   {
    "duration": 256828,
    "start_time": "2022-05-19T21:22:52.324Z"
   },
   {
    "duration": 2,
    "start_time": "2022-05-19T21:27:09.154Z"
   },
   {
    "duration": 43279,
    "start_time": "2022-05-19T21:27:09.157Z"
   },
   {
    "duration": 521984,
    "start_time": "2022-05-19T21:27:52.438Z"
   },
   {
    "duration": 4,
    "start_time": "2022-05-19T21:36:34.424Z"
   },
   {
    "duration": 6,
    "start_time": "2022-05-19T21:36:34.430Z"
   },
   {
    "duration": 150182,
    "start_time": "2022-05-19T21:36:34.437Z"
   },
   {
    "duration": 865611,
    "start_time": "2022-05-19T21:39:04.621Z"
   },
   {
    "duration": 5,
    "start_time": "2022-05-19T21:53:30.233Z"
   },
   {
    "duration": 7,
    "start_time": "2022-05-19T21:53:30.239Z"
   },
   {
    "duration": 385234,
    "start_time": "2022-05-19T21:53:30.248Z"
   },
   {
    "duration": 13442194,
    "start_time": "2022-05-19T21:59:55.484Z"
   },
   {
    "duration": 3,
    "start_time": "2022-05-20T01:43:57.680Z"
   },
   {
    "duration": 6,
    "start_time": "2022-05-20T01:43:57.685Z"
   },
   {
    "duration": 699510,
    "start_time": "2022-05-20T01:43:57.692Z"
   },
   {
    "duration": 3,
    "start_time": "2022-05-20T01:55:37.204Z"
   },
   {
    "duration": 12,
    "start_time": "2022-05-20T01:55:37.208Z"
   },
   {
    "duration": 6865,
    "start_time": "2022-05-20T01:55:37.221Z"
   },
   {
    "duration": 3625,
    "start_time": "2022-05-20T01:55:44.087Z"
   },
   {
    "duration": 5,
    "start_time": "2022-05-20T01:55:47.713Z"
   },
   {
    "duration": 13,
    "start_time": "2022-05-20T01:55:47.720Z"
   },
   {
    "duration": 4315,
    "start_time": "2022-05-21T03:55:14.228Z"
   },
   {
    "duration": 2309,
    "start_time": "2022-05-21T03:55:18.545Z"
   },
   {
    "duration": 7,
    "start_time": "2022-05-21T03:55:20.856Z"
   },
   {
    "duration": 37,
    "start_time": "2022-05-21T03:55:20.865Z"
   },
   {
    "duration": 7,
    "start_time": "2022-05-21T03:55:20.904Z"
   },
   {
    "duration": 32,
    "start_time": "2022-05-21T03:55:20.912Z"
   },
   {
    "duration": 225,
    "start_time": "2022-05-21T03:55:20.945Z"
   },
   {
    "duration": 14,
    "start_time": "2022-05-21T03:55:21.172Z"
   },
   {
    "duration": 11,
    "start_time": "2022-05-21T03:55:21.188Z"
   },
   {
    "duration": 51,
    "start_time": "2022-05-21T03:55:21.202Z"
   },
   {
    "duration": 6,
    "start_time": "2022-05-21T03:55:21.255Z"
   },
   {
    "duration": 5,
    "start_time": "2022-05-21T03:55:21.263Z"
   },
   {
    "duration": 6,
    "start_time": "2022-05-21T03:55:21.269Z"
   },
   {
    "duration": 6,
    "start_time": "2022-05-21T03:55:21.276Z"
   },
   {
    "duration": 5,
    "start_time": "2022-05-21T03:55:21.283Z"
   },
   {
    "duration": 4,
    "start_time": "2022-05-21T03:55:21.290Z"
   },
   {
    "duration": 3993,
    "start_time": "2022-05-21T03:55:21.296Z"
   },
   {
    "duration": 8,
    "start_time": "2022-05-21T03:55:25.290Z"
   },
   {
    "duration": 3,
    "start_time": "2022-05-21T03:55:25.301Z"
   },
   {
    "duration": 26,
    "start_time": "2022-05-21T03:55:25.306Z"
   },
   {
    "duration": 5,
    "start_time": "2022-05-21T03:55:25.333Z"
   },
   {
    "duration": 49478,
    "start_time": "2022-05-21T03:55:25.339Z"
   },
   {
    "duration": 26,
    "start_time": "2022-05-21T03:56:14.818Z"
   },
   {
    "duration": 0,
    "start_time": "2022-05-21T03:56:36.295Z"
   },
   {
    "duration": 0,
    "start_time": "2022-05-21T03:56:36.296Z"
   },
   {
    "duration": 0,
    "start_time": "2022-05-21T03:56:36.298Z"
   },
   {
    "duration": 0,
    "start_time": "2022-05-21T03:56:36.301Z"
   },
   {
    "duration": 0,
    "start_time": "2022-05-21T03:56:36.302Z"
   },
   {
    "duration": 0,
    "start_time": "2022-05-21T03:56:36.303Z"
   },
   {
    "duration": 0,
    "start_time": "2022-05-21T03:56:36.304Z"
   },
   {
    "duration": 0,
    "start_time": "2022-05-21T03:56:36.306Z"
   },
   {
    "duration": 0,
    "start_time": "2022-05-21T03:56:36.307Z"
   },
   {
    "duration": 0,
    "start_time": "2022-05-21T03:56:36.309Z"
   },
   {
    "duration": 0,
    "start_time": "2022-05-21T03:56:36.310Z"
   },
   {
    "duration": 0,
    "start_time": "2022-05-21T03:56:36.311Z"
   },
   {
    "duration": 0,
    "start_time": "2022-05-21T03:56:36.312Z"
   },
   {
    "duration": 0,
    "start_time": "2022-05-21T03:56:36.313Z"
   },
   {
    "duration": 0,
    "start_time": "2022-05-21T03:56:36.314Z"
   },
   {
    "duration": 0,
    "start_time": "2022-05-21T03:56:36.316Z"
   },
   {
    "duration": 0,
    "start_time": "2022-05-21T03:56:36.317Z"
   },
   {
    "duration": 0,
    "start_time": "2022-05-21T03:56:36.318Z"
   },
   {
    "duration": 0,
    "start_time": "2022-05-21T03:56:36.320Z"
   },
   {
    "duration": 0,
    "start_time": "2022-05-21T03:56:36.321Z"
   },
   {
    "duration": 0,
    "start_time": "2022-05-21T03:56:36.322Z"
   },
   {
    "duration": 0,
    "start_time": "2022-05-21T03:56:36.323Z"
   },
   {
    "duration": 0,
    "start_time": "2022-05-21T03:56:36.329Z"
   },
   {
    "duration": 0,
    "start_time": "2022-05-21T03:56:36.330Z"
   },
   {
    "duration": 0,
    "start_time": "2022-05-21T03:56:36.331Z"
   },
   {
    "duration": 0,
    "start_time": "2022-05-21T03:56:36.331Z"
   },
   {
    "duration": 0,
    "start_time": "2022-05-21T03:56:36.332Z"
   },
   {
    "duration": 0,
    "start_time": "2022-05-21T03:56:36.333Z"
   },
   {
    "duration": 0,
    "start_time": "2022-05-21T03:56:36.340Z"
   },
   {
    "duration": 0,
    "start_time": "2022-05-21T03:56:36.341Z"
   },
   {
    "duration": 0,
    "start_time": "2022-05-21T03:56:36.344Z"
   },
   {
    "duration": 0,
    "start_time": "2022-05-21T03:56:36.346Z"
   },
   {
    "duration": 1693,
    "start_time": "2022-05-21T03:56:45.457Z"
   },
   {
    "duration": 816,
    "start_time": "2022-05-21T03:56:47.152Z"
   },
   {
    "duration": 7,
    "start_time": "2022-05-21T03:56:47.970Z"
   },
   {
    "duration": 28,
    "start_time": "2022-05-21T03:56:47.979Z"
   },
   {
    "duration": 28,
    "start_time": "2022-05-21T03:56:48.009Z"
   },
   {
    "duration": 28,
    "start_time": "2022-05-21T03:56:48.038Z"
   },
   {
    "duration": 218,
    "start_time": "2022-05-21T03:56:48.067Z"
   },
   {
    "duration": 14,
    "start_time": "2022-05-21T03:56:48.287Z"
   },
   {
    "duration": 37,
    "start_time": "2022-05-21T03:56:48.303Z"
   },
   {
    "duration": 16,
    "start_time": "2022-05-21T03:56:48.343Z"
   },
   {
    "duration": 6,
    "start_time": "2022-05-21T03:56:48.361Z"
   },
   {
    "duration": 16,
    "start_time": "2022-05-21T03:56:48.368Z"
   },
   {
    "duration": 5,
    "start_time": "2022-05-21T03:56:48.385Z"
   },
   {
    "duration": 5,
    "start_time": "2022-05-21T03:56:48.391Z"
   },
   {
    "duration": 6,
    "start_time": "2022-05-21T03:56:48.397Z"
   },
   {
    "duration": 11,
    "start_time": "2022-05-21T03:56:48.404Z"
   },
   {
    "duration": 4882,
    "start_time": "2022-05-21T03:56:48.416Z"
   },
   {
    "duration": 8,
    "start_time": "2022-05-21T03:56:53.299Z"
   },
   {
    "duration": 12,
    "start_time": "2022-05-21T03:56:53.308Z"
   },
   {
    "duration": 16,
    "start_time": "2022-05-21T03:56:53.322Z"
   },
   {
    "duration": 6,
    "start_time": "2022-05-21T03:56:53.339Z"
   },
   {
    "duration": 49467,
    "start_time": "2022-05-21T03:56:53.346Z"
   },
   {
    "duration": 16,
    "start_time": "2022-05-21T03:57:42.815Z"
   },
   {
    "duration": 1131894,
    "start_time": "2022-05-21T03:57:42.833Z"
   },
   {
    "duration": 12,
    "start_time": "2022-05-21T04:16:34.731Z"
   },
   {
    "duration": 123,
    "start_time": "2022-05-21T04:16:34.747Z"
   },
   {
    "duration": 4,
    "start_time": "2022-05-21T04:16:34.872Z"
   },
   {
    "duration": 9,
    "start_time": "2022-05-21T04:16:34.880Z"
   },
   {
    "duration": 8,
    "start_time": "2022-05-21T04:16:34.891Z"
   },
   {
    "duration": 8,
    "start_time": "2022-05-21T04:16:34.901Z"
   },
   {
    "duration": 7,
    "start_time": "2022-05-21T04:16:34.926Z"
   },
   {
    "duration": 18,
    "start_time": "2022-05-21T04:16:34.938Z"
   },
   {
    "duration": 8,
    "start_time": "2022-05-21T04:16:34.958Z"
   },
   {
    "duration": 272393,
    "start_time": "2022-05-21T04:16:34.968Z"
   },
   {
    "duration": 2,
    "start_time": "2022-05-21T04:21:07.363Z"
   },
   {
    "duration": 42503,
    "start_time": "2022-05-21T04:21:07.367Z"
   },
   {
    "duration": 66471,
    "start_time": "2022-05-21T04:21:49.872Z"
   },
   {
    "duration": 0,
    "start_time": "2022-05-21T04:22:56.345Z"
   },
   {
    "duration": 0,
    "start_time": "2022-05-21T04:22:56.346Z"
   },
   {
    "duration": 0,
    "start_time": "2022-05-21T04:22:56.347Z"
   },
   {
    "duration": 0,
    "start_time": "2022-05-21T04:22:56.347Z"
   },
   {
    "duration": 0,
    "start_time": "2022-05-21T04:22:56.348Z"
   },
   {
    "duration": 0,
    "start_time": "2022-05-21T04:22:56.349Z"
   },
   {
    "duration": 0,
    "start_time": "2022-05-21T04:22:56.350Z"
   },
   {
    "duration": 0,
    "start_time": "2022-05-21T04:22:56.351Z"
   },
   {
    "duration": 0,
    "start_time": "2022-05-21T04:22:56.352Z"
   },
   {
    "duration": 0,
    "start_time": "2022-05-21T04:22:56.353Z"
   },
   {
    "duration": 0,
    "start_time": "2022-05-21T04:22:56.354Z"
   },
   {
    "duration": 0,
    "start_time": "2022-05-21T04:22:56.355Z"
   },
   {
    "duration": 0,
    "start_time": "2022-05-21T04:22:56.356Z"
   },
   {
    "duration": 0,
    "start_time": "2022-05-21T04:22:56.357Z"
   },
   {
    "duration": 0,
    "start_time": "2022-05-21T04:22:56.358Z"
   },
   {
    "duration": 0,
    "start_time": "2022-05-21T04:22:56.358Z"
   },
   {
    "duration": 0,
    "start_time": "2022-05-21T04:22:56.359Z"
   },
   {
    "duration": 0,
    "start_time": "2022-05-21T04:22:56.360Z"
   },
   {
    "duration": 0,
    "start_time": "2022-05-21T04:22:56.361Z"
   },
   {
    "duration": 1664,
    "start_time": "2022-05-21T04:23:05.170Z"
   },
   {
    "duration": 854,
    "start_time": "2022-05-21T04:23:06.839Z"
   },
   {
    "duration": 9,
    "start_time": "2022-05-21T04:23:07.694Z"
   },
   {
    "duration": 43,
    "start_time": "2022-05-21T04:23:07.705Z"
   },
   {
    "duration": 12,
    "start_time": "2022-05-21T04:23:07.750Z"
   },
   {
    "duration": 36,
    "start_time": "2022-05-21T04:23:07.763Z"
   },
   {
    "duration": 242,
    "start_time": "2022-05-21T04:23:07.801Z"
   },
   {
    "duration": 17,
    "start_time": "2022-05-21T04:23:08.046Z"
   },
   {
    "duration": 10,
    "start_time": "2022-05-21T04:23:08.065Z"
   },
   {
    "duration": 18,
    "start_time": "2022-05-21T04:23:08.077Z"
   },
   {
    "duration": 6,
    "start_time": "2022-05-21T04:23:08.096Z"
   },
   {
    "duration": 11,
    "start_time": "2022-05-21T04:23:08.126Z"
   },
   {
    "duration": 20,
    "start_time": "2022-05-21T04:23:08.141Z"
   },
   {
    "duration": 8,
    "start_time": "2022-05-21T04:23:08.162Z"
   },
   {
    "duration": 9,
    "start_time": "2022-05-21T04:23:08.172Z"
   },
   {
    "duration": 10,
    "start_time": "2022-05-21T04:23:08.182Z"
   },
   {
    "duration": 4327,
    "start_time": "2022-05-21T04:23:08.194Z"
   },
   {
    "duration": 12,
    "start_time": "2022-05-21T04:23:12.523Z"
   },
   {
    "duration": 15,
    "start_time": "2022-05-21T04:23:12.536Z"
   },
   {
    "duration": 8,
    "start_time": "2022-05-21T04:23:12.553Z"
   },
   {
    "duration": 6,
    "start_time": "2022-05-21T04:23:12.562Z"
   },
   {
    "duration": 52462,
    "start_time": "2022-05-21T04:23:12.569Z"
   },
   {
    "duration": 15,
    "start_time": "2022-05-21T04:24:05.033Z"
   },
   {
    "duration": 1157947,
    "start_time": "2022-05-21T04:24:05.049Z"
   },
   {
    "duration": 8,
    "start_time": "2022-05-21T04:43:22.998Z"
   },
   {
    "duration": 81,
    "start_time": "2022-05-21T04:43:23.007Z"
   },
   {
    "duration": 3,
    "start_time": "2022-05-21T04:43:23.090Z"
   },
   {
    "duration": 5,
    "start_time": "2022-05-21T04:43:23.097Z"
   },
   {
    "duration": 6,
    "start_time": "2022-05-21T04:43:23.104Z"
   },
   {
    "duration": 20,
    "start_time": "2022-05-21T04:43:23.111Z"
   },
   {
    "duration": 11,
    "start_time": "2022-05-21T04:43:23.138Z"
   },
   {
    "duration": 9,
    "start_time": "2022-05-21T04:43:23.151Z"
   },
   {
    "duration": 175,
    "start_time": "2022-05-21T04:43:23.161Z"
   },
   {
    "duration": 0,
    "start_time": "2022-05-21T04:43:23.338Z"
   },
   {
    "duration": 0,
    "start_time": "2022-05-21T04:43:23.339Z"
   },
   {
    "duration": 0,
    "start_time": "2022-05-21T04:43:23.340Z"
   },
   {
    "duration": 0,
    "start_time": "2022-05-21T04:43:23.340Z"
   },
   {
    "duration": 0,
    "start_time": "2022-05-21T04:43:23.341Z"
   },
   {
    "duration": 0,
    "start_time": "2022-05-21T04:43:23.342Z"
   },
   {
    "duration": 0,
    "start_time": "2022-05-21T04:43:23.342Z"
   },
   {
    "duration": 0,
    "start_time": "2022-05-21T04:43:23.343Z"
   },
   {
    "duration": 0,
    "start_time": "2022-05-21T04:43:23.344Z"
   },
   {
    "duration": 0,
    "start_time": "2022-05-21T04:43:23.346Z"
   },
   {
    "duration": 0,
    "start_time": "2022-05-21T04:43:23.347Z"
   },
   {
    "duration": 0,
    "start_time": "2022-05-21T04:43:23.348Z"
   },
   {
    "duration": 0,
    "start_time": "2022-05-21T04:43:23.349Z"
   },
   {
    "duration": 0,
    "start_time": "2022-05-21T04:43:23.350Z"
   },
   {
    "duration": 0,
    "start_time": "2022-05-21T04:43:23.352Z"
   },
   {
    "duration": 0,
    "start_time": "2022-05-21T04:43:23.353Z"
   },
   {
    "duration": 0,
    "start_time": "2022-05-21T04:43:23.354Z"
   },
   {
    "duration": 0,
    "start_time": "2022-05-21T04:43:23.355Z"
   },
   {
    "duration": 0,
    "start_time": "2022-05-21T04:43:23.356Z"
   },
   {
    "duration": 0,
    "start_time": "2022-05-21T04:43:23.357Z"
   },
   {
    "duration": 0,
    "start_time": "2022-05-21T04:43:23.360Z"
   },
   {
    "duration": 0,
    "start_time": "2022-05-21T04:43:23.361Z"
   },
   {
    "duration": 0,
    "start_time": "2022-05-21T04:43:23.362Z"
   },
   {
    "duration": 819007,
    "start_time": "2022-05-21T05:29:05.228Z"
   },
   {
    "duration": 815463,
    "start_time": "2022-05-21T05:45:33.571Z"
   },
   {
    "duration": 91,
    "start_time": "2022-05-21T05:59:09.037Z"
   },
   {
    "duration": 3,
    "start_time": "2022-05-21T06:06:26.844Z"
   },
   {
    "duration": 277272,
    "start_time": "2022-05-21T06:06:28.546Z"
   },
   {
    "duration": 3,
    "start_time": "2022-05-21T06:11:43.742Z"
   },
   {
    "duration": 41254,
    "start_time": "2022-05-21T06:11:44.663Z"
   },
   {
    "duration": 31852,
    "start_time": "2022-05-21T06:15:53.617Z"
   },
   {
    "duration": 0,
    "start_time": "2022-05-21T06:16:25.472Z"
   },
   {
    "duration": 789084,
    "start_time": "2022-05-21T06:17:01.642Z"
   },
   {
    "duration": 4,
    "start_time": "2022-05-21T06:30:10.729Z"
   },
   {
    "duration": 2,
    "start_time": "2022-05-21T06:30:45.488Z"
   },
   {
    "duration": 65071,
    "start_time": "2022-05-21T06:30:47.556Z"
   },
   {
    "duration": 192234,
    "start_time": "2022-05-21T06:37:47.414Z"
   },
   {
    "duration": 89,
    "start_time": "2022-05-21T06:40:59.651Z"
   },
   {
    "duration": 7,
    "start_time": "2022-05-21T06:40:59.742Z"
   },
   {
    "duration": 45364,
    "start_time": "2022-05-21T06:43:02.909Z"
   },
   {
    "duration": 1830,
    "start_time": "2022-05-21T06:49:43.412Z"
   },
   {
    "duration": 947,
    "start_time": "2022-05-21T06:49:45.245Z"
   },
   {
    "duration": 9,
    "start_time": "2022-05-21T06:49:46.194Z"
   },
   {
    "duration": 51,
    "start_time": "2022-05-21T06:49:46.206Z"
   },
   {
    "duration": 12,
    "start_time": "2022-05-21T06:49:46.259Z"
   },
   {
    "duration": 36,
    "start_time": "2022-05-21T06:49:46.273Z"
   },
   {
    "duration": 256,
    "start_time": "2022-05-21T06:49:46.326Z"
   },
   {
    "duration": 17,
    "start_time": "2022-05-21T06:49:46.584Z"
   },
   {
    "duration": 33,
    "start_time": "2022-05-21T06:49:46.603Z"
   },
   {
    "duration": 27,
    "start_time": "2022-05-21T06:49:46.640Z"
   },
   {
    "duration": 7,
    "start_time": "2022-05-21T06:49:46.670Z"
   },
   {
    "duration": 7,
    "start_time": "2022-05-21T06:49:46.679Z"
   },
   {
    "duration": 6,
    "start_time": "2022-05-21T06:49:46.688Z"
   },
   {
    "duration": 30,
    "start_time": "2022-05-21T06:49:46.696Z"
   },
   {
    "duration": 9,
    "start_time": "2022-05-21T06:49:46.728Z"
   },
   {
    "duration": 6,
    "start_time": "2022-05-21T06:49:46.739Z"
   },
   {
    "duration": 3806,
    "start_time": "2022-05-21T06:49:46.746Z"
   },
   {
    "duration": 9,
    "start_time": "2022-05-21T06:49:50.554Z"
   },
   {
    "duration": 12,
    "start_time": "2022-05-21T06:49:50.564Z"
   },
   {
    "duration": 9,
    "start_time": "2022-05-21T06:49:50.577Z"
   },
   {
    "duration": 8,
    "start_time": "2022-05-21T06:49:50.587Z"
   },
   {
    "duration": 50045,
    "start_time": "2022-05-21T06:49:50.596Z"
   },
   {
    "duration": 12,
    "start_time": "2022-05-21T06:50:40.643Z"
   },
   {
    "duration": 1160525,
    "start_time": "2022-05-21T06:50:40.657Z"
   },
   {
    "duration": 9,
    "start_time": "2022-05-21T07:10:01.184Z"
   },
   {
    "duration": 86,
    "start_time": "2022-05-21T07:10:01.194Z"
   },
   {
    "duration": 4,
    "start_time": "2022-05-21T07:10:01.282Z"
   },
   {
    "duration": 24,
    "start_time": "2022-05-21T07:10:01.291Z"
   },
   {
    "duration": 12,
    "start_time": "2022-05-21T07:10:01.317Z"
   },
   {
    "duration": 13,
    "start_time": "2022-05-21T07:10:01.331Z"
   },
   {
    "duration": 32,
    "start_time": "2022-05-21T07:10:01.346Z"
   },
   {
    "duration": 26,
    "start_time": "2022-05-21T07:10:01.380Z"
   },
   {
    "duration": 28944,
    "start_time": "2022-05-21T07:10:01.408Z"
   },
   {
    "duration": 0,
    "start_time": "2022-05-21T07:10:30.354Z"
   },
   {
    "duration": 0,
    "start_time": "2022-05-21T07:10:30.357Z"
   },
   {
    "duration": 0,
    "start_time": "2022-05-21T07:10:30.358Z"
   },
   {
    "duration": 0,
    "start_time": "2022-05-21T07:10:30.360Z"
   },
   {
    "duration": 0,
    "start_time": "2022-05-21T07:10:30.361Z"
   },
   {
    "duration": 0,
    "start_time": "2022-05-21T07:10:30.362Z"
   },
   {
    "duration": 0,
    "start_time": "2022-05-21T07:10:30.364Z"
   },
   {
    "duration": 0,
    "start_time": "2022-05-21T07:10:30.365Z"
   },
   {
    "duration": 0,
    "start_time": "2022-05-21T07:10:30.366Z"
   },
   {
    "duration": 0,
    "start_time": "2022-05-21T07:10:30.367Z"
   },
   {
    "duration": 0,
    "start_time": "2022-05-21T07:10:30.368Z"
   },
   {
    "duration": 0,
    "start_time": "2022-05-21T07:10:30.369Z"
   },
   {
    "duration": 0,
    "start_time": "2022-05-21T07:10:30.370Z"
   },
   {
    "duration": 0,
    "start_time": "2022-05-21T07:10:30.372Z"
   },
   {
    "duration": 0,
    "start_time": "2022-05-21T07:10:30.374Z"
   },
   {
    "duration": 0,
    "start_time": "2022-05-21T07:10:30.376Z"
   },
   {
    "duration": 0,
    "start_time": "2022-05-21T07:10:30.377Z"
   },
   {
    "duration": 0,
    "start_time": "2022-05-21T07:10:30.378Z"
   },
   {
    "duration": 0,
    "start_time": "2022-05-21T07:10:30.380Z"
   },
   {
    "duration": 0,
    "start_time": "2022-05-21T07:10:30.381Z"
   },
   {
    "duration": 0,
    "start_time": "2022-05-21T07:10:30.383Z"
   },
   {
    "duration": 0,
    "start_time": "2022-05-21T07:10:30.429Z"
   },
   {
    "duration": 0,
    "start_time": "2022-05-21T07:10:30.431Z"
   },
   {
    "duration": 0,
    "start_time": "2022-05-21T07:10:30.433Z"
   },
   {
    "duration": 0,
    "start_time": "2022-05-21T07:10:30.434Z"
   },
   {
    "duration": 0,
    "start_time": "2022-05-21T09:59:06.853Z"
   },
   {
    "duration": 230274,
    "start_time": "2022-05-21T09:59:12.472Z"
   },
   {
    "duration": 492928,
    "start_time": "2022-05-21T10:03:05.698Z"
   },
   {
    "duration": 4,
    "start_time": "2022-05-21T10:11:18.628Z"
   },
   {
    "duration": 10,
    "start_time": "2022-05-21T10:11:18.634Z"
   },
   {
    "duration": 275335,
    "start_time": "2022-05-21T10:11:18.647Z"
   },
   {
    "duration": 61971,
    "start_time": "2022-05-21T10:15:53.984Z"
   },
   {
    "duration": 0,
    "start_time": "2022-05-21T10:16:55.957Z"
   },
   {
    "duration": 0,
    "start_time": "2022-05-21T10:16:55.958Z"
   },
   {
    "duration": 30916,
    "start_time": "2022-05-21T10:17:27.262Z"
   },
   {
    "duration": 1803,
    "start_time": "2022-05-21T10:20:37.785Z"
   },
   {
    "duration": 894,
    "start_time": "2022-05-21T10:20:39.590Z"
   },
   {
    "duration": 9,
    "start_time": "2022-05-21T10:20:40.486Z"
   },
   {
    "duration": 46,
    "start_time": "2022-05-21T10:20:40.497Z"
   },
   {
    "duration": 10,
    "start_time": "2022-05-21T10:20:40.546Z"
   },
   {
    "duration": 29,
    "start_time": "2022-05-21T10:20:40.558Z"
   },
   {
    "duration": 294,
    "start_time": "2022-05-21T10:20:40.589Z"
   },
   {
    "duration": 20,
    "start_time": "2022-05-21T10:20:40.885Z"
   },
   {
    "duration": 27,
    "start_time": "2022-05-21T10:20:40.907Z"
   },
   {
    "duration": 19,
    "start_time": "2022-05-21T10:20:40.937Z"
   },
   {
    "duration": 6,
    "start_time": "2022-05-21T10:20:40.958Z"
   },
   {
    "duration": 5,
    "start_time": "2022-05-21T10:20:40.966Z"
   },
   {
    "duration": 5,
    "start_time": "2022-05-21T10:20:40.973Z"
   },
   {
    "duration": 13,
    "start_time": "2022-05-21T10:20:40.980Z"
   },
   {
    "duration": 8,
    "start_time": "2022-05-21T10:20:40.995Z"
   },
   {
    "duration": 22,
    "start_time": "2022-05-21T10:20:41.004Z"
   },
   {
    "duration": 3943,
    "start_time": "2022-05-21T10:20:41.028Z"
   },
   {
    "duration": 12,
    "start_time": "2022-05-21T10:20:44.973Z"
   },
   {
    "duration": 8,
    "start_time": "2022-05-21T10:20:44.987Z"
   },
   {
    "duration": 28,
    "start_time": "2022-05-21T10:20:44.997Z"
   },
   {
    "duration": 13,
    "start_time": "2022-05-21T10:20:45.027Z"
   },
   {
    "duration": 49906,
    "start_time": "2022-05-21T10:20:45.042Z"
   },
   {
    "duration": 10,
    "start_time": "2022-05-21T10:21:34.950Z"
   },
   {
    "duration": 1117232,
    "start_time": "2022-05-21T10:21:34.962Z"
   },
   {
    "duration": 8,
    "start_time": "2022-05-21T10:40:12.197Z"
   },
   {
    "duration": 76,
    "start_time": "2022-05-21T10:40:12.207Z"
   },
   {
    "duration": 4,
    "start_time": "2022-05-21T10:40:12.285Z"
   },
   {
    "duration": 7,
    "start_time": "2022-05-21T10:40:12.293Z"
   },
   {
    "duration": 10,
    "start_time": "2022-05-21T10:40:12.302Z"
   },
   {
    "duration": 6,
    "start_time": "2022-05-21T10:40:12.325Z"
   },
   {
    "duration": 4,
    "start_time": "2022-05-21T10:40:12.333Z"
   },
   {
    "duration": 7,
    "start_time": "2022-05-21T10:40:12.339Z"
   },
   {
    "duration": 989586,
    "start_time": "2022-05-21T10:40:12.347Z"
   },
   {
    "duration": 92,
    "start_time": "2022-05-21T10:56:41.936Z"
   },
   {
    "duration": 11,
    "start_time": "2022-05-21T10:56:42.029Z"
   },
   {
    "duration": 273323,
    "start_time": "2022-05-21T10:56:42.042Z"
   },
   {
    "duration": 990260,
    "start_time": "2022-05-21T11:01:15.366Z"
   },
   {
    "duration": 4,
    "start_time": "2022-05-21T11:17:45.629Z"
   },
   {
    "duration": 15,
    "start_time": "2022-05-21T11:17:45.635Z"
   },
   {
    "duration": 75540,
    "start_time": "2022-05-21T11:17:45.652Z"
   },
   {
    "duration": 498771,
    "start_time": "2022-05-21T11:19:01.193Z"
   },
   {
    "duration": 4,
    "start_time": "2022-05-21T11:27:19.966Z"
   },
   {
    "duration": 9,
    "start_time": "2022-05-21T11:27:19.972Z"
   },
   {
    "duration": 148756,
    "start_time": "2022-05-21T11:27:19.982Z"
   },
   {
    "duration": 844783,
    "start_time": "2022-05-21T11:29:48.740Z"
   },
   {
    "duration": 4,
    "start_time": "2022-05-21T11:43:53.525Z"
   },
   {
    "duration": 9,
    "start_time": "2022-05-21T11:43:53.530Z"
   },
   {
    "duration": 351960,
    "start_time": "2022-05-21T11:43:53.540Z"
   },
   {
    "duration": 341648,
    "start_time": "2022-05-21T11:49:45.502Z"
   },
   {
    "duration": 1,
    "start_time": "2022-05-21T11:55:27.151Z"
   },
   {
    "duration": 0,
    "start_time": "2022-05-21T11:55:27.153Z"
   },
   {
    "duration": 0,
    "start_time": "2022-05-21T11:55:27.154Z"
   },
   {
    "duration": 0,
    "start_time": "2022-05-21T11:55:27.157Z"
   },
   {
    "duration": 0,
    "start_time": "2022-05-21T11:55:27.158Z"
   },
   {
    "duration": 0,
    "start_time": "2022-05-21T11:55:27.159Z"
   },
   {
    "duration": 1,
    "start_time": "2022-05-21T11:55:27.160Z"
   },
   {
    "duration": 0,
    "start_time": "2022-05-21T11:55:27.162Z"
   },
   {
    "duration": 0,
    "start_time": "2022-05-21T11:55:27.163Z"
   },
   {
    "duration": 218184,
    "start_time": "2022-05-21T11:56:04.945Z"
   },
   {
    "duration": 5,
    "start_time": "2022-05-21T11:59:43.133Z"
   },
   {
    "duration": 87,
    "start_time": "2022-05-21T11:59:43.140Z"
   },
   {
    "duration": 47894,
    "start_time": "2022-05-21T11:59:43.229Z"
   },
   {
    "duration": 1716,
    "start_time": "2022-05-21T12:13:11.603Z"
   },
   {
    "duration": 1304,
    "start_time": "2022-05-21T12:13:13.322Z"
   },
   {
    "duration": 8,
    "start_time": "2022-05-21T12:13:14.628Z"
   },
   {
    "duration": 44,
    "start_time": "2022-05-21T12:13:14.638Z"
   },
   {
    "duration": 11,
    "start_time": "2022-05-21T12:13:14.684Z"
   },
   {
    "duration": 51,
    "start_time": "2022-05-21T12:13:14.697Z"
   },
   {
    "duration": 257,
    "start_time": "2022-05-21T12:13:14.749Z"
   },
   {
    "duration": 27,
    "start_time": "2022-05-21T12:13:15.008Z"
   },
   {
    "duration": 14,
    "start_time": "2022-05-21T12:13:15.037Z"
   },
   {
    "duration": 30,
    "start_time": "2022-05-21T12:13:15.054Z"
   },
   {
    "duration": 8,
    "start_time": "2022-05-21T12:13:15.086Z"
   },
   {
    "duration": 14,
    "start_time": "2022-05-21T12:13:15.096Z"
   },
   {
    "duration": 9,
    "start_time": "2022-05-21T12:13:15.111Z"
   },
   {
    "duration": 10,
    "start_time": "2022-05-21T12:13:15.126Z"
   },
   {
    "duration": 8,
    "start_time": "2022-05-21T12:13:15.138Z"
   },
   {
    "duration": 7,
    "start_time": "2022-05-21T12:13:15.148Z"
   },
   {
    "duration": 3902,
    "start_time": "2022-05-21T12:13:15.157Z"
   },
   {
    "duration": 10,
    "start_time": "2022-05-21T12:13:19.061Z"
   },
   {
    "duration": 4,
    "start_time": "2022-05-21T12:13:19.073Z"
   },
   {
    "duration": 5,
    "start_time": "2022-05-21T12:13:19.079Z"
   },
   {
    "duration": 6,
    "start_time": "2022-05-21T12:13:19.085Z"
   },
   {
    "duration": 49407,
    "start_time": "2022-05-21T12:13:19.093Z"
   },
   {
    "duration": 9,
    "start_time": "2022-05-21T12:14:08.502Z"
   },
   {
    "duration": 1118884,
    "start_time": "2022-05-21T12:14:08.526Z"
   },
   {
    "duration": 14,
    "start_time": "2022-05-21T12:32:47.413Z"
   },
   {
    "duration": 81,
    "start_time": "2022-05-21T12:32:47.429Z"
   },
   {
    "duration": 4,
    "start_time": "2022-05-21T12:32:47.512Z"
   },
   {
    "duration": 12,
    "start_time": "2022-05-21T12:32:47.520Z"
   },
   {
    "duration": 7,
    "start_time": "2022-05-21T12:32:47.533Z"
   },
   {
    "duration": 9,
    "start_time": "2022-05-21T12:32:47.541Z"
   },
   {
    "duration": 19,
    "start_time": "2022-05-21T12:32:47.552Z"
   },
   {
    "duration": 6,
    "start_time": "2022-05-21T12:32:47.573Z"
   },
   {
    "duration": 213350,
    "start_time": "2022-05-21T12:32:47.581Z"
   },
   {
    "duration": 4,
    "start_time": "2022-05-21T12:36:20.933Z"
   },
   {
    "duration": 89,
    "start_time": "2022-05-21T12:36:20.938Z"
   },
   {
    "duration": 269680,
    "start_time": "2022-05-21T12:36:21.029Z"
   },
   {
    "duration": 115674,
    "start_time": "2022-05-21T12:40:50.710Z"
   },
   {
    "duration": 0,
    "start_time": "2022-05-21T12:42:46.387Z"
   },
   {
    "duration": 0,
    "start_time": "2022-05-21T12:42:46.388Z"
   },
   {
    "duration": 0,
    "start_time": "2022-05-21T12:42:46.389Z"
   },
   {
    "duration": 0,
    "start_time": "2022-05-21T12:42:46.390Z"
   },
   {
    "duration": 0,
    "start_time": "2022-05-21T12:42:46.391Z"
   },
   {
    "duration": 0,
    "start_time": "2022-05-21T12:42:46.392Z"
   },
   {
    "duration": 0,
    "start_time": "2022-05-21T12:42:46.393Z"
   },
   {
    "duration": 0,
    "start_time": "2022-05-21T12:42:46.394Z"
   },
   {
    "duration": 0,
    "start_time": "2022-05-21T12:42:46.395Z"
   },
   {
    "duration": 0,
    "start_time": "2022-05-21T12:42:46.396Z"
   },
   {
    "duration": 0,
    "start_time": "2022-05-21T12:42:46.397Z"
   },
   {
    "duration": 0,
    "start_time": "2022-05-21T12:42:46.398Z"
   },
   {
    "duration": 0,
    "start_time": "2022-05-21T12:42:46.399Z"
   },
   {
    "duration": 0,
    "start_time": "2022-05-21T12:42:46.400Z"
   },
   {
    "duration": 0,
    "start_time": "2022-05-21T12:42:46.401Z"
   },
   {
    "duration": 0,
    "start_time": "2022-05-21T12:42:46.402Z"
   },
   {
    "duration": 0,
    "start_time": "2022-05-21T12:42:46.402Z"
   },
   {
    "duration": 0,
    "start_time": "2022-05-21T12:42:46.403Z"
   },
   {
    "duration": 0,
    "start_time": "2022-05-21T12:42:46.403Z"
   },
   {
    "duration": 0,
    "start_time": "2022-05-21T12:42:46.426Z"
   },
   {
    "duration": 0,
    "start_time": "2022-05-21T12:42:46.427Z"
   },
   {
    "duration": 1976,
    "start_time": "2022-05-21T12:45:29.716Z"
   },
   {
    "duration": 869,
    "start_time": "2022-05-21T12:45:31.694Z"
   },
   {
    "duration": 8,
    "start_time": "2022-05-21T12:45:32.565Z"
   },
   {
    "duration": 40,
    "start_time": "2022-05-21T12:45:32.575Z"
   },
   {
    "duration": 15,
    "start_time": "2022-05-21T12:45:32.617Z"
   },
   {
    "duration": 28,
    "start_time": "2022-05-21T12:45:32.634Z"
   },
   {
    "duration": 245,
    "start_time": "2022-05-21T12:45:32.664Z"
   },
   {
    "duration": 24,
    "start_time": "2022-05-21T12:45:32.910Z"
   },
   {
    "duration": 10,
    "start_time": "2022-05-21T12:45:32.936Z"
   },
   {
    "duration": 22,
    "start_time": "2022-05-21T12:45:32.948Z"
   },
   {
    "duration": 7,
    "start_time": "2022-05-21T12:45:32.972Z"
   },
   {
    "duration": 4,
    "start_time": "2022-05-21T12:45:32.981Z"
   },
   {
    "duration": 8,
    "start_time": "2022-05-21T12:45:32.987Z"
   },
   {
    "duration": 3,
    "start_time": "2022-05-21T12:45:33.026Z"
   },
   {
    "duration": 10,
    "start_time": "2022-05-21T12:45:33.031Z"
   },
   {
    "duration": 5,
    "start_time": "2022-05-21T12:45:33.042Z"
   },
   {
    "duration": 3921,
    "start_time": "2022-05-21T12:45:33.049Z"
   },
   {
    "duration": 7,
    "start_time": "2022-05-21T12:45:36.972Z"
   },
   {
    "duration": 13,
    "start_time": "2022-05-21T12:45:36.981Z"
   },
   {
    "duration": 8,
    "start_time": "2022-05-21T12:45:36.995Z"
   },
   {
    "duration": 4,
    "start_time": "2022-05-21T12:45:37.005Z"
   },
   {
    "duration": 54369,
    "start_time": "2022-05-21T12:45:37.010Z"
   },
   {
    "duration": 11,
    "start_time": "2022-05-21T12:46:31.384Z"
   },
   {
    "duration": 1166508,
    "start_time": "2022-05-21T12:46:31.397Z"
   },
   {
    "duration": 9,
    "start_time": "2022-05-21T13:05:57.908Z"
   },
   {
    "duration": 67,
    "start_time": "2022-05-21T13:05:57.926Z"
   },
   {
    "duration": 4,
    "start_time": "2022-05-21T13:05:57.994Z"
   },
   {
    "duration": 27,
    "start_time": "2022-05-21T13:05:58.000Z"
   },
   {
    "duration": 4,
    "start_time": "2022-05-21T13:05:58.029Z"
   },
   {
    "duration": 14,
    "start_time": "2022-05-21T13:05:58.035Z"
   },
   {
    "duration": 6,
    "start_time": "2022-05-21T13:05:58.051Z"
   },
   {
    "duration": 9,
    "start_time": "2022-05-21T13:05:58.059Z"
   },
   {
    "duration": 949261,
    "start_time": "2022-05-21T13:05:58.069Z"
   },
   {
    "duration": 5,
    "start_time": "2022-05-21T13:21:47.333Z"
   },
   {
    "duration": 105,
    "start_time": "2022-05-21T13:21:47.340Z"
   },
   {
    "duration": 269249,
    "start_time": "2022-05-21T13:21:47.447Z"
   },
   {
    "duration": 949932,
    "start_time": "2022-05-21T13:26:16.698Z"
   },
   {
    "duration": 5,
    "start_time": "2022-05-21T13:42:06.632Z"
   },
   {
    "duration": 17,
    "start_time": "2022-05-21T13:42:06.639Z"
   },
   {
    "duration": 75289,
    "start_time": "2022-05-21T13:42:06.658Z"
   },
   {
    "duration": 1594,
    "start_time": "2022-05-21T13:47:34.589Z"
   },
   {
    "duration": 891,
    "start_time": "2022-05-21T13:47:36.185Z"
   },
   {
    "duration": 8,
    "start_time": "2022-05-21T13:47:37.077Z"
   },
   {
    "duration": 41,
    "start_time": "2022-05-21T13:47:37.087Z"
   },
   {
    "duration": 8,
    "start_time": "2022-05-21T13:47:37.130Z"
   },
   {
    "duration": 28,
    "start_time": "2022-05-21T13:47:37.140Z"
   },
   {
    "duration": 261,
    "start_time": "2022-05-21T13:47:37.170Z"
   },
   {
    "duration": 18,
    "start_time": "2022-05-21T13:47:37.433Z"
   },
   {
    "duration": 12,
    "start_time": "2022-05-21T13:47:37.452Z"
   },
   {
    "duration": 19,
    "start_time": "2022-05-21T13:47:37.467Z"
   },
   {
    "duration": 38,
    "start_time": "2022-05-21T13:47:37.488Z"
   },
   {
    "duration": 3,
    "start_time": "2022-05-21T13:47:37.528Z"
   },
   {
    "duration": 6,
    "start_time": "2022-05-21T13:47:37.533Z"
   },
   {
    "duration": 6,
    "start_time": "2022-05-21T13:47:37.541Z"
   },
   {
    "duration": 10,
    "start_time": "2022-05-21T13:47:37.549Z"
   },
   {
    "duration": 9,
    "start_time": "2022-05-21T13:47:37.561Z"
   },
   {
    "duration": 3769,
    "start_time": "2022-05-21T13:47:37.572Z"
   },
   {
    "duration": 8,
    "start_time": "2022-05-21T13:47:41.343Z"
   },
   {
    "duration": 8,
    "start_time": "2022-05-21T13:47:41.352Z"
   },
   {
    "duration": 7,
    "start_time": "2022-05-21T13:47:41.361Z"
   },
   {
    "duration": 13,
    "start_time": "2022-05-21T13:47:41.370Z"
   },
   {
    "duration": 49314,
    "start_time": "2022-05-21T13:47:41.385Z"
   },
   {
    "duration": 25,
    "start_time": "2022-05-21T13:48:30.701Z"
   },
   {
    "duration": 1106542,
    "start_time": "2022-05-21T13:48:30.728Z"
   },
   {
    "duration": 8,
    "start_time": "2022-05-21T14:06:57.273Z"
   },
   {
    "duration": 85,
    "start_time": "2022-05-21T14:06:57.283Z"
   },
   {
    "duration": 4,
    "start_time": "2022-05-21T14:06:57.370Z"
   },
   {
    "duration": 18,
    "start_time": "2022-05-21T14:06:57.379Z"
   },
   {
    "duration": 9,
    "start_time": "2022-05-21T14:06:57.399Z"
   },
   {
    "duration": 20,
    "start_time": "2022-05-21T14:06:57.410Z"
   },
   {
    "duration": 11,
    "start_time": "2022-05-21T14:06:57.431Z"
   },
   {
    "duration": 9,
    "start_time": "2022-05-21T14:06:57.444Z"
   },
   {
    "duration": 945876,
    "start_time": "2022-05-21T14:06:57.455Z"
   },
   {
    "duration": 4,
    "start_time": "2022-05-21T14:22:43.333Z"
   },
   {
    "duration": 12,
    "start_time": "2022-05-21T14:22:43.338Z"
   },
   {
    "duration": 272867,
    "start_time": "2022-05-21T14:22:43.352Z"
   },
   {
    "duration": 6,
    "start_time": "2022-05-21T14:27:16.220Z"
   },
   {
    "duration": 46620,
    "start_time": "2022-05-21T14:27:16.227Z"
   },
   {
    "duration": 489684,
    "start_time": "2022-05-21T14:28:02.849Z"
   },
   {
    "duration": 5,
    "start_time": "2022-05-21T14:36:12.535Z"
   },
   {
    "duration": 7,
    "start_time": "2022-05-21T14:36:12.541Z"
   },
   {
    "duration": 144981,
    "start_time": "2022-05-21T14:36:12.549Z"
   },
   {
    "duration": 788850,
    "start_time": "2022-05-21T14:38:37.532Z"
   },
   {
    "duration": 7,
    "start_time": "2022-05-21T14:51:46.386Z"
   },
   {
    "duration": 7,
    "start_time": "2022-05-21T14:51:46.394Z"
   },
   {
    "duration": 337720,
    "start_time": "2022-05-21T14:51:46.403Z"
   },
   {
    "duration": 0,
    "start_time": "2022-05-21T15:39:20.069Z"
   },
   {
    "duration": 0,
    "start_time": "2022-05-21T15:39:20.070Z"
   },
   {
    "duration": 0,
    "start_time": "2022-05-21T15:39:20.071Z"
   },
   {
    "duration": 0,
    "start_time": "2022-05-21T15:39:20.072Z"
   },
   {
    "duration": 0,
    "start_time": "2022-05-21T15:39:20.074Z"
   },
   {
    "duration": 0,
    "start_time": "2022-05-21T15:39:20.075Z"
   },
   {
    "duration": 0,
    "start_time": "2022-05-21T15:39:20.076Z"
   },
   {
    "duration": 0,
    "start_time": "2022-05-21T15:39:20.077Z"
   },
   {
    "duration": 0,
    "start_time": "2022-05-21T15:39:20.078Z"
   },
   {
    "duration": 0,
    "start_time": "2022-05-21T15:39:20.079Z"
   },
   {
    "duration": 1863,
    "start_time": "2022-05-21T15:39:25.014Z"
   },
   {
    "duration": 896,
    "start_time": "2022-05-21T15:39:26.879Z"
   },
   {
    "duration": 9,
    "start_time": "2022-05-21T15:39:27.777Z"
   },
   {
    "duration": 47,
    "start_time": "2022-05-21T15:39:27.788Z"
   },
   {
    "duration": 11,
    "start_time": "2022-05-21T15:39:27.837Z"
   },
   {
    "duration": 30,
    "start_time": "2022-05-21T15:39:27.849Z"
   },
   {
    "duration": 267,
    "start_time": "2022-05-21T15:39:27.881Z"
   },
   {
    "duration": 19,
    "start_time": "2022-05-21T15:39:28.150Z"
   },
   {
    "duration": 11,
    "start_time": "2022-05-21T15:39:28.170Z"
   },
   {
    "duration": 49,
    "start_time": "2022-05-21T15:39:28.184Z"
   },
   {
    "duration": 7,
    "start_time": "2022-05-21T15:39:28.235Z"
   },
   {
    "duration": 9,
    "start_time": "2022-05-21T15:39:28.243Z"
   },
   {
    "duration": 6,
    "start_time": "2022-05-21T15:39:28.253Z"
   },
   {
    "duration": 8,
    "start_time": "2022-05-21T15:39:28.261Z"
   },
   {
    "duration": 9,
    "start_time": "2022-05-21T15:39:28.271Z"
   },
   {
    "duration": 7,
    "start_time": "2022-05-21T15:39:28.281Z"
   },
   {
    "duration": 3941,
    "start_time": "2022-05-21T15:39:28.290Z"
   },
   {
    "duration": 8,
    "start_time": "2022-05-21T15:39:32.233Z"
   },
   {
    "duration": 10,
    "start_time": "2022-05-21T15:39:32.243Z"
   },
   {
    "duration": 18,
    "start_time": "2022-05-21T15:39:32.255Z"
   },
   {
    "duration": 5,
    "start_time": "2022-05-21T15:39:32.275Z"
   },
   {
    "duration": 49488,
    "start_time": "2022-05-21T15:39:32.282Z"
   },
   {
    "duration": 9,
    "start_time": "2022-05-21T15:40:21.772Z"
   },
   {
    "duration": 1108461,
    "start_time": "2022-05-21T15:40:21.783Z"
   },
   {
    "duration": 9,
    "start_time": "2022-05-21T15:58:50.246Z"
   },
   {
    "duration": 81,
    "start_time": "2022-05-21T15:58:50.257Z"
   },
   {
    "duration": 5,
    "start_time": "2022-05-21T15:58:50.340Z"
   },
   {
    "duration": 8,
    "start_time": "2022-05-21T15:58:50.348Z"
   },
   {
    "duration": 9,
    "start_time": "2022-05-21T15:58:50.358Z"
   },
   {
    "duration": 11,
    "start_time": "2022-05-21T15:58:50.369Z"
   },
   {
    "duration": 7,
    "start_time": "2022-05-21T15:58:50.382Z"
   },
   {
    "duration": 14,
    "start_time": "2022-05-21T15:58:50.391Z"
   },
   {
    "duration": 935826,
    "start_time": "2022-05-21T15:58:50.407Z"
   },
   {
    "duration": 92,
    "start_time": "2022-05-21T16:14:26.236Z"
   },
   {
    "duration": 5,
    "start_time": "2022-05-21T16:14:26.330Z"
   },
   {
    "duration": 271955,
    "start_time": "2022-05-21T16:14:26.337Z"
   },
   {
    "duration": 3,
    "start_time": "2022-05-21T16:18:58.293Z"
   },
   {
    "duration": 44075,
    "start_time": "2022-05-21T16:18:58.298Z"
   },
   {
    "duration": 474483,
    "start_time": "2022-05-21T16:19:42.375Z"
   },
   {
    "duration": 4,
    "start_time": "2022-05-21T16:27:36.860Z"
   },
   {
    "duration": 10,
    "start_time": "2022-05-21T16:27:36.866Z"
   },
   {
    "duration": 144905,
    "start_time": "2022-05-21T16:27:36.877Z"
   },
   {
    "duration": 783430,
    "start_time": "2022-05-21T16:30:01.785Z"
   },
   {
    "duration": 9,
    "start_time": "2022-05-21T16:43:05.217Z"
   },
   {
    "duration": 3,
    "start_time": "2022-05-21T16:43:05.227Z"
   },
   {
    "duration": 342517,
    "start_time": "2022-05-21T16:43:05.232Z"
   },
   {
    "duration": 13682068,
    "start_time": "2022-05-21T16:48:47.751Z"
   },
   {
    "duration": 0,
    "start_time": "2022-05-21T20:36:49.820Z"
   },
   {
    "duration": 1,
    "start_time": "2022-05-21T20:36:49.825Z"
   },
   {
    "duration": 0,
    "start_time": "2022-05-21T20:36:49.826Z"
   },
   {
    "duration": 0,
    "start_time": "2022-05-21T20:36:49.828Z"
   },
   {
    "duration": 0,
    "start_time": "2022-05-21T20:36:49.828Z"
   },
   {
    "duration": 0,
    "start_time": "2022-05-21T20:36:49.829Z"
   },
   {
    "duration": 0,
    "start_time": "2022-05-21T20:36:49.830Z"
   },
   {
    "duration": 0,
    "start_time": "2022-05-21T20:36:49.831Z"
   },
   {
    "duration": 0,
    "start_time": "2022-05-21T20:36:49.832Z"
   },
   {
    "duration": 1582,
    "start_time": "2022-05-21T20:55:18.478Z"
   },
   {
    "duration": 880,
    "start_time": "2022-05-21T20:55:20.063Z"
   },
   {
    "duration": 9,
    "start_time": "2022-05-21T20:55:20.945Z"
   },
   {
    "duration": 60,
    "start_time": "2022-05-21T20:55:20.957Z"
   },
   {
    "duration": 19,
    "start_time": "2022-05-21T20:55:21.019Z"
   },
   {
    "duration": 40,
    "start_time": "2022-05-21T20:55:21.039Z"
   },
   {
    "duration": 233,
    "start_time": "2022-05-21T20:55:21.080Z"
   },
   {
    "duration": 22,
    "start_time": "2022-05-21T20:55:21.314Z"
   },
   {
    "duration": 11,
    "start_time": "2022-05-21T20:55:21.338Z"
   },
   {
    "duration": 39,
    "start_time": "2022-05-21T20:55:21.351Z"
   },
   {
    "duration": 7,
    "start_time": "2022-05-21T20:55:21.392Z"
   },
   {
    "duration": 16,
    "start_time": "2022-05-21T20:55:21.401Z"
   },
   {
    "duration": 12,
    "start_time": "2022-05-21T20:55:21.418Z"
   },
   {
    "duration": 22,
    "start_time": "2022-05-21T20:55:21.432Z"
   },
   {
    "duration": 6,
    "start_time": "2022-05-21T20:55:21.456Z"
   },
   {
    "duration": 7,
    "start_time": "2022-05-21T20:55:21.463Z"
   },
   {
    "duration": 3729,
    "start_time": "2022-05-21T20:55:21.472Z"
   },
   {
    "duration": 8,
    "start_time": "2022-05-21T20:55:25.203Z"
   },
   {
    "duration": 12,
    "start_time": "2022-05-21T20:55:25.225Z"
   },
   {
    "duration": 7,
    "start_time": "2022-05-21T20:55:25.239Z"
   },
   {
    "duration": 9,
    "start_time": "2022-05-21T20:55:25.247Z"
   },
   {
    "duration": 47306,
    "start_time": "2022-05-21T20:55:25.257Z"
   },
   {
    "duration": 8,
    "start_time": "2022-05-21T20:56:12.565Z"
   },
   {
    "duration": 1070795,
    "start_time": "2022-05-21T20:56:12.575Z"
   },
   {
    "duration": 9,
    "start_time": "2022-05-21T21:14:03.373Z"
   },
   {
    "duration": 83,
    "start_time": "2022-05-21T21:14:03.383Z"
   },
   {
    "duration": 4,
    "start_time": "2022-05-21T21:14:03.468Z"
   },
   {
    "duration": 18,
    "start_time": "2022-05-21T21:14:03.476Z"
   },
   {
    "duration": 11,
    "start_time": "2022-05-21T21:14:03.496Z"
   },
   {
    "duration": 6,
    "start_time": "2022-05-21T21:14:03.509Z"
   },
   {
    "duration": 11,
    "start_time": "2022-05-21T21:14:03.516Z"
   },
   {
    "duration": 11,
    "start_time": "2022-05-21T21:14:03.529Z"
   },
   {
    "duration": 959984,
    "start_time": "2022-05-21T21:14:03.542Z"
   },
   {
    "duration": 5,
    "start_time": "2022-05-21T21:30:03.529Z"
   },
   {
    "duration": 97,
    "start_time": "2022-05-21T21:30:03.536Z"
   },
   {
    "duration": 272115,
    "start_time": "2022-05-21T21:30:03.635Z"
   },
   {
    "duration": 2,
    "start_time": "2022-05-21T21:34:35.752Z"
   },
   {
    "duration": 43760,
    "start_time": "2022-05-21T21:34:35.756Z"
   },
   {
    "duration": 458307,
    "start_time": "2022-05-21T21:35:19.518Z"
   },
   {
    "duration": 3,
    "start_time": "2022-05-21T21:42:57.827Z"
   },
   {
    "duration": 6,
    "start_time": "2022-05-21T21:42:57.832Z"
   },
   {
    "duration": 136534,
    "start_time": "2022-05-21T21:42:57.840Z"
   },
   {
    "duration": 783137,
    "start_time": "2022-05-21T21:45:14.376Z"
   },
   {
    "duration": 5,
    "start_time": "2022-05-21T21:58:17.514Z"
   },
   {
    "duration": 3,
    "start_time": "2022-05-21T21:58:17.526Z"
   },
   {
    "duration": 337077,
    "start_time": "2022-05-21T21:58:17.531Z"
   },
   {
    "duration": 10173578,
    "start_time": "2022-05-21T22:03:54.610Z"
   },
   {
    "duration": 4,
    "start_time": "2022-05-22T00:53:28.190Z"
   },
   {
    "duration": 6,
    "start_time": "2022-05-22T00:53:28.195Z"
   },
   {
    "duration": 1624873,
    "start_time": "2022-05-22T00:53:28.203Z"
   },
   {
    "duration": 3,
    "start_time": "2022-05-22T01:20:33.077Z"
   },
   {
    "duration": 13,
    "start_time": "2022-05-22T01:20:33.136Z"
   },
   {
    "duration": 6738,
    "start_time": "2022-05-22T01:20:33.150Z"
   },
   {
    "duration": 51353,
    "start_time": "2022-05-22T01:20:39.890Z"
   },
   {
    "duration": 6,
    "start_time": "2022-05-22T01:21:31.245Z"
   },
   {
    "duration": 26,
    "start_time": "2022-05-22T01:21:31.253Z"
   }
  ],
  "kernelspec": {
   "display_name": "Python 3 (ipykernel)",
   "language": "python",
   "name": "python3"
  },
  "language_info": {
   "codemirror_mode": {
    "name": "ipython",
    "version": 3
   },
   "file_extension": ".py",
   "mimetype": "text/x-python",
   "name": "python",
   "nbconvert_exporter": "python",
   "pygments_lexer": "ipython3",
   "version": "3.11.4"
  },
  "toc": {
   "base_numbering": 1,
   "nav_menu": {},
   "number_sections": true,
   "sideBar": true,
   "skip_h1_title": true,
   "title_cell": "Содержание",
   "title_sidebar": "Contents",
   "toc_cell": true,
   "toc_position": {
    "height": "calc(100% - 180px)",
    "left": "10px",
    "top": "150px",
    "width": "302.391px"
   },
   "toc_section_display": true,
   "toc_window_display": true
  }
 },
 "nbformat": 4,
 "nbformat_minor": 2
}
